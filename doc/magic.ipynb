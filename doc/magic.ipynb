{
 "cells": [
  {
   "cell_type": "markdown",
   "metadata": {},
   "source": [
    "# Magic functions\n",
    "\n",
    "You can enable magic functions by loading the extension ``pandas_td.ipython``:"
   ]
  },
  {
   "cell_type": "code",
   "execution_count": 1,
   "metadata": {
    "collapsed": false
   },
   "outputs": [],
   "source": [
    "%load_ext pandas_td.ipython"
   ]
  },
  {
   "cell_type": "markdown",
   "metadata": {},
   "source": [
    "You can load it automatically by adding the following lines in your \"~/.ipython/profile_default/ipython_config.py\":"
   ]
  },
  {
   "cell_type": "code",
   "execution_count": null,
   "metadata": {
    "collapsed": true
   },
   "outputs": [],
   "source": [
    "c = get_config()\n",
    "\n",
    "c.InteractiveShellApp.extensions = [\n",
    "    'pandas_td.ipython',\n",
    "]"
   ]
  },
  {
   "cell_type": "markdown",
   "metadata": {},
   "source": [
    "After loading the extension, type \"%td\" and press TAB to complete the list of magic functions:\n",
    "\n",
    "![Image](http://i.gyazo.com/ff9d7c5de1b16a21236fa7fb5d47d5a4.png)"
   ]
  },
  {
   "cell_type": "markdown",
   "metadata": {},
   "source": [
    "If you are customizing magic functions, you can import ``pandas_td.ipython`` in your own extension:"
   ]
  },
  {
   "cell_type": "code",
   "execution_count": null,
   "metadata": {
    "collapsed": true
   },
   "outputs": [],
   "source": [
    "# ~/.ipython/extensions/myextension.py\n",
    "\n",
    "from pandas_td.ipython import magic_databases\n",
    "from pandas_td.ipython import magic_tables\n",
    "\n",
    "def load_ipython_extension(ipython):\n",
    "    # %databases [PATTERN]\n",
    "    ipython.register_magic_function(magic_databases, magic_kind='line', magic_name='databases')\n",
    "\n",
    "    # %tables [PATTERN]\n",
    "    ipython.register_magic_function(magic_tables, magic_kind='line', magic_name='tables')"
   ]
  },
  {
   "cell_type": "markdown",
   "metadata": {
    "collapsed": true
   },
   "source": [
    "# List functions\n",
    "\n",
    "``%td_databases`` returns the list of databases:"
   ]
  },
  {
   "cell_type": "code",
   "execution_count": 2,
   "metadata": {
    "collapsed": false
   },
   "outputs": [
    {
     "data": {
      "text/html": [
       "<div style=\"max-height:1000px;max-width:1500px;overflow:auto;\">\n",
       "<table border=\"1\" class=\"dataframe\">\n",
       "  <thead>\n",
       "    <tr style=\"text-align: right;\">\n",
       "      <th></th>\n",
       "      <th>name</th>\n",
       "      <th>count</th>\n",
       "      <th>permission</th>\n",
       "      <th>created_at</th>\n",
       "      <th>updated_at</th>\n",
       "    </tr>\n",
       "  </thead>\n",
       "  <tbody>\n",
       "    <tr>\n",
       "      <th>0</th>\n",
       "      <td>tutorial</td>\n",
       "      <td>19</td>\n",
       "      <td>full_access</td>\n",
       "      <td>2015-05-27 13:12:43+00:00</td>\n",
       "      <td>2015-05-27 13:12:43+00:00</td>\n",
       "    </tr>\n",
       "    <tr>\n",
       "      <th>1</th>\n",
       "      <td>sample_datasets</td>\n",
       "      <td>8812278</td>\n",
       "      <td>query_only</td>\n",
       "      <td>2014-10-04 01:13:11+00:00</td>\n",
       "      <td>2015-01-09 01:07:14+00:00</td>\n",
       "    </tr>\n",
       "  </tbody>\n",
       "</table>\n",
       "</div>"
      ],
      "text/plain": [
       "              name    count   permission                 created_at                 updated_at\n",
       "0         tutorial       19  full_access  2015-05-27 13:12:43+00:00  2015-05-27 13:12:43+00:00\n",
       "1  sample_datasets  8812278   query_only  2014-10-04 01:13:11+00:00  2015-01-09 01:07:14+00:00"
      ]
     },
     "execution_count": 2,
     "metadata": {},
     "output_type": "execute_result"
    }
   ],
   "source": [
    "%td_databases"
   ]
  },
  {
   "cell_type": "markdown",
   "metadata": {},
   "source": [
    "``%td_tables`` returns the list of tables:"
   ]
  },
  {
   "cell_type": "code",
   "execution_count": 3,
   "metadata": {
    "collapsed": false
   },
   "outputs": [
    {
     "data": {
      "text/html": [
       "<div style=\"max-height:1000px;max-width:1500px;overflow:auto;\">\n",
       "<table border=\"1\" class=\"dataframe\">\n",
       "  <thead>\n",
       "    <tr style=\"text-align: right;\">\n",
       "      <th></th>\n",
       "      <th>db_name</th>\n",
       "      <th>name</th>\n",
       "      <th>count</th>\n",
       "      <th>estimated_storage_size</th>\n",
       "      <th>last_log_timestamp</th>\n",
       "      <th>created_at</th>\n",
       "    </tr>\n",
       "  </thead>\n",
       "  <tbody>\n",
       "    <tr>\n",
       "      <th>0</th>\n",
       "      <td>sample_datasets</td>\n",
       "      <td>nasdaq</td>\n",
       "      <td>8807278</td>\n",
       "      <td>168205061</td>\n",
       "      <td>1970-01-01 00:00:00+00:00</td>\n",
       "      <td>2014-10-08 02:57:38+00:00</td>\n",
       "    </tr>\n",
       "    <tr>\n",
       "      <th>1</th>\n",
       "      <td>sample_datasets</td>\n",
       "      <td>www_access</td>\n",
       "      <td>5000</td>\n",
       "      <td>0</td>\n",
       "      <td>2014-10-04 01:13:15+00:00</td>\n",
       "      <td>2014-10-04 01:13:12+00:00</td>\n",
       "    </tr>\n",
       "  </tbody>\n",
       "</table>\n",
       "</div>"
      ],
      "text/plain": [
       "           db_name        name    count  estimated_storage_size         last_log_timestamp                 created_at\n",
       "0  sample_datasets      nasdaq  8807278               168205061  1970-01-01 00:00:00+00:00  2014-10-08 02:57:38+00:00\n",
       "1  sample_datasets  www_access     5000                       0  2014-10-04 01:13:15+00:00  2014-10-04 01:13:12+00:00"
      ]
     },
     "execution_count": 3,
     "metadata": {},
     "output_type": "execute_result"
    }
   ],
   "source": [
    "%td_tables sample"
   ]
  },
  {
   "cell_type": "markdown",
   "metadata": {},
   "source": [
    "``%td_jobs`` returns the list of recently executed jobs:"
   ]
  },
  {
   "cell_type": "code",
   "execution_count": 4,
   "metadata": {
    "collapsed": false,
    "scrolled": true
   },
   "outputs": [
    {
     "data": {
      "text/html": [
       "<div style=\"max-height:1000px;max-width:1500px;overflow:auto;\">\n",
       "<table border=\"1\" class=\"dataframe\">\n",
       "  <thead>\n",
       "    <tr style=\"text-align: right;\">\n",
       "      <th></th>\n",
       "      <th>status</th>\n",
       "      <th>job_id</th>\n",
       "      <th>type</th>\n",
       "      <th>start_at</th>\n",
       "      <th>query</th>\n",
       "    </tr>\n",
       "  </thead>\n",
       "  <tbody>\n",
       "    <tr>\n",
       "      <th>0</th>\n",
       "      <td>success</td>\n",
       "      <td>28870939</td>\n",
       "      <td>presto</td>\n",
       "      <td>2015-07-10 19:37:05+00:00</td>\n",
       "      <td>-- read_td_table('nasdaq')\\nSELECT time, symbo...</td>\n",
       "    </tr>\n",
       "    <tr>\n",
       "      <th>1</th>\n",
       "      <td>success</td>\n",
       "      <td>28870917</td>\n",
       "      <td>presto</td>\n",
       "      <td>2015-07-10 19:36:05+00:00</td>\n",
       "      <td>-- read_td_table('nasdaq')\\nSELECT time, symbo...</td>\n",
       "    </tr>\n",
       "    <tr>\n",
       "      <th>2</th>\n",
       "      <td>success</td>\n",
       "      <td>28870902</td>\n",
       "      <td>presto</td>\n",
       "      <td>2015-07-10 19:35:40+00:00</td>\n",
       "      <td>-- read_td_table('www_access')\\nSELECT *\\nFROM...</td>\n",
       "    </tr>\n",
       "  </tbody>\n",
       "</table>\n",
       "</div>"
      ],
      "text/plain": [
       "    status    job_id    type                   start_at                                              query\n",
       "0  success  28870939  presto  2015-07-10 19:37:05+00:00  -- read_td_table('nasdaq')\\nSELECT time, symbo...\n",
       "1  success  28870917  presto  2015-07-10 19:36:05+00:00  -- read_td_table('nasdaq')\\nSELECT time, symbo...\n",
       "2  success  28870902  presto  2015-07-10 19:35:40+00:00  -- read_td_table('www_access')\\nSELECT *\\nFROM..."
      ]
     },
     "execution_count": 4,
     "metadata": {},
     "output_type": "execute_result"
    }
   ],
   "source": [
    "%td_jobs"
   ]
  },
  {
   "cell_type": "markdown",
   "metadata": {},
   "source": [
    "# Use database"
   ]
  },
  {
   "cell_type": "markdown",
   "metadata": {},
   "source": [
    "``%td_use`` is a special function that has side effects.  First, it pushes table names into the current namespace:"
   ]
  },
  {
   "cell_type": "code",
   "execution_count": 5,
   "metadata": {
    "collapsed": false
   },
   "outputs": [
    {
     "name": "stdout",
     "output_type": "stream",
     "text": [
      "INFO: import www_access\n",
      "INFO: import nasdaq\n"
     ]
    }
   ],
   "source": [
    "%td_use sample_datasets"
   ]
  },
  {
   "cell_type": "markdown",
   "metadata": {},
   "source": [
    "By printing a table name, you can describe column names:"
   ]
  },
  {
   "cell_type": "code",
   "execution_count": 6,
   "metadata": {
    "collapsed": false
   },
   "outputs": [
    {
     "data": {
      "text/html": [
       "<div style=\"max-height:1000px;max-width:1500px;overflow:auto;\">\n",
       "<table border=\"1\" class=\"dataframe\">\n",
       "  <thead>\n",
       "    <tr style=\"text-align: right;\">\n",
       "      <th></th>\n",
       "      <th>field</th>\n",
       "      <th>type</th>\n",
       "      <th>alias</th>\n",
       "    </tr>\n",
       "  </thead>\n",
       "  <tbody>\n",
       "    <tr>\n",
       "      <th>0</th>\n",
       "      <td>symbol</td>\n",
       "      <td>string</td>\n",
       "      <td></td>\n",
       "    </tr>\n",
       "    <tr>\n",
       "      <th>1</th>\n",
       "      <td>open</td>\n",
       "      <td>double</td>\n",
       "      <td></td>\n",
       "    </tr>\n",
       "    <tr>\n",
       "      <th>2</th>\n",
       "      <td>volume</td>\n",
       "      <td>long</td>\n",
       "      <td></td>\n",
       "    </tr>\n",
       "    <tr>\n",
       "      <th>3</th>\n",
       "      <td>high</td>\n",
       "      <td>double</td>\n",
       "      <td></td>\n",
       "    </tr>\n",
       "    <tr>\n",
       "      <th>4</th>\n",
       "      <td>low</td>\n",
       "      <td>double</td>\n",
       "      <td></td>\n",
       "    </tr>\n",
       "    <tr>\n",
       "      <th>5</th>\n",
       "      <td>close</td>\n",
       "      <td>double</td>\n",
       "      <td></td>\n",
       "    </tr>\n",
       "  </tbody>\n",
       "</table>\n",
       "</div>"
      ],
      "text/plain": [
       "<pandas_td.ipython.MagicTable at 0x106ba0cf8>"
      ]
     },
     "execution_count": 6,
     "metadata": {},
     "output_type": "execute_result"
    }
   ],
   "source": [
    "nasdaq"
   ]
  },
  {
   "cell_type": "markdown",
   "metadata": {},
   "source": [
    "Tab completion is also supported:\n",
    "\n",
    "![Tab completion](http://i.gyazo.com/fde882bc1bd665ba080cbd72222e27cb.png)"
   ]
  },
  {
   "cell_type": "markdown",
   "metadata": {},
   "source": [
    "The second effect of ``%td_use`` is that it declares the \"default database\".  The default database is used when you run queries without specifying a database in the following query functions."
   ]
  },
  {
   "cell_type": "markdown",
   "metadata": {},
   "source": [
    "# Query functions"
   ]
  },
  {
   "cell_type": "markdown",
   "metadata": {},
   "source": [
    "``%%td_hive``, ``%%td_pig``, and ``%%td_presto`` are cell magic functions that run queries:"
   ]
  },
  {
   "cell_type": "code",
   "execution_count": 7,
   "metadata": {
    "collapsed": false
   },
   "outputs": [
    {
     "data": {
      "text/html": [
       "<div style=\"max-height:1000px;max-width:1500px;overflow:auto;\">\n",
       "<table border=\"1\" class=\"dataframe\">\n",
       "  <thead>\n",
       "    <tr style=\"text-align: right;\">\n",
       "      <th></th>\n",
       "      <th>cnt</th>\n",
       "    </tr>\n",
       "  </thead>\n",
       "  <tbody>\n",
       "    <tr>\n",
       "      <th>0</th>\n",
       "      <td>8807278</td>\n",
       "    </tr>\n",
       "  </tbody>\n",
       "</table>\n",
       "</div>"
      ],
      "text/plain": [
       "       cnt\n",
       "0  8807278"
      ]
     },
     "execution_count": 7,
     "metadata": {},
     "output_type": "execute_result"
    }
   ],
   "source": [
    "%%td_presto\n",
    "select count(1) cnt\n",
    "from nasdaq"
   ]
  },
  {
   "cell_type": "markdown",
   "metadata": {},
   "source": [
    "The result of the query can be stored in a variable as follows for further processing:"
   ]
  },
  {
   "cell_type": "code",
   "execution_count": 8,
   "metadata": {
    "collapsed": false
   },
   "outputs": [],
   "source": [
    "df = _"
   ]
  },
  {
   "cell_type": "markdown",
   "metadata": {},
   "source": [
    "There is another family of functions ``%%td_hive_plot``, ``%%td_pig_plot``, and ``%%td_presto_plot`` that apply ``plot()`` method immediately after running a query."
   ]
  },
  {
   "cell_type": "code",
   "execution_count": 9,
   "metadata": {
    "collapsed": true
   },
   "outputs": [],
   "source": [
    "%matplotlib inline"
   ]
  },
  {
   "cell_type": "code",
   "execution_count": 10,
   "metadata": {
    "collapsed": false
   },
   "outputs": [
    {
     "data": {
      "text/plain": [
       "<matplotlib.axes._subplots.AxesSubplot at 0x109a5dc88>"
      ]
     },
     "execution_count": 10,
     "metadata": {},
     "output_type": "execute_result"
    },
    {
     "data": {
      "image/png": "[encoded data removed]",
      "text/plain": [
       "<matplotlib.figure.Figure at 0x109a5d710>"
      ]
     },
     "metadata": {},
     "output_type": "display_data"
    }
   ],
   "source": [
    "%%td_presto_plot\n",
    "select\n",
    "  -- Note: the first column must be unixtime named 'time'\n",
    "  td_date_trunc('year', time) time,\n",
    "  min(low) low,\n",
    "  max(high) high\n",
    "from\n",
    "  nasdaq\n",
    "where\n",
    "  symbol = 'AAPL'\n",
    "group by\n",
    "  1"
   ]
  },
  {
   "cell_type": "code",
   "execution_count": null,
   "metadata": {
    "collapsed": true
   },
   "outputs": [],
   "source": []
  }
 ],
 "metadata": {
  "kernelspec": {
   "display_name": "Python 3",
   "language": "python",
   "name": "python3"
  },
  "language_info": {
   "codemirror_mode": {
    "name": "ipython",
    "version": 3
   },
   "file_extension": ".py",
   "mimetype": "text/x-python",
   "name": "python",
   "nbconvert_exporter": "python",
   "pygments_lexer": "ipython3",
   "version": "3.4.3"
  }
 },
 "nbformat": 4,
 "nbformat_minor": 0
}
