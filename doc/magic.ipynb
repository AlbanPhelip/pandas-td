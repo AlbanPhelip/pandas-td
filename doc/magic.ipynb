{
 "cells": [
  {
   "cell_type": "markdown",
   "metadata": {},
   "source": [
    "# Magic functions\n",
    "\n",
    "You can enable magic functions by loading ``pandas_td.ipython``:"
   ]
  },
  {
   "cell_type": "code",
   "execution_count": 1,
   "metadata": {
    "collapsed": false
   },
   "outputs": [],
   "source": [
    "%load_ext pandas_td.ipython"
   ]
  },
  {
   "cell_type": "markdown",
   "metadata": {},
   "source": [
    "It can be loaded automatically by the following configuration in \"~/.ipython/profile_default/ipython_config.py\":"
   ]
  },
  {
   "cell_type": "code",
   "execution_count": null,
   "metadata": {
    "collapsed": true
   },
   "outputs": [],
   "source": [
    "c = get_config()\n",
    "\n",
    "c.InteractiveShellApp.extensions = [\n",
    "    'pandas_td.ipython',\n",
    "]"
   ]
  },
  {
   "cell_type": "markdown",
   "metadata": {},
   "source": [
    "After loading the extension, type \"%td\" and press TAB to list magic functions:\n",
    "\n",
    "![Image](http://i.gyazo.com/ff9d7c5de1b16a21236fa7fb5d47d5a4.png)"
   ]
  },
  {
   "cell_type": "markdown",
   "metadata": {
    "collapsed": true
   },
   "source": [
    "# List functions\n",
    "\n",
    "``%td_databases`` returns the list of databases:"
   ]
  },
  {
   "cell_type": "code",
   "execution_count": 2,
   "metadata": {
    "collapsed": false
   },
   "outputs": [
    {
     "data": {
      "text/html": [
       "<div style=\"max-height:1000px;max-width:1500px;overflow:auto;\">\n",
       "<table border=\"1\" class=\"dataframe\">\n",
       "  <thead>\n",
       "    <tr style=\"text-align: right;\">\n",
       "      <th></th>\n",
       "      <th>name</th>\n",
       "      <th>count</th>\n",
       "      <th>permission</th>\n",
       "      <th>created_at</th>\n",
       "      <th>updated_at</th>\n",
       "    </tr>\n",
       "  </thead>\n",
       "  <tbody>\n",
       "    <tr>\n",
       "      <th>0</th>\n",
       "      <td>sample_datasets</td>\n",
       "      <td>8812278</td>\n",
       "      <td>query_only</td>\n",
       "      <td>2014-10-04 01:13:11+00:00</td>\n",
       "      <td>2015-01-09 01:07:14+00:00</td>\n",
       "    </tr>\n",
       "    <tr>\n",
       "      <th>1</th>\n",
       "      <td>tutorial</td>\n",
       "      <td>19</td>\n",
       "      <td>full_access</td>\n",
       "      <td>2015-05-27 13:12:43+00:00</td>\n",
       "      <td>2015-05-27 13:12:43+00:00</td>\n",
       "    </tr>\n",
       "  </tbody>\n",
       "</table>\n",
       "</div>"
      ],
      "text/plain": [
       "              name    count   permission                 created_at                 updated_at\n",
       "0  sample_datasets  8812278   query_only  2014-10-04 01:13:11+00:00  2015-01-09 01:07:14+00:00\n",
       "1         tutorial       19  full_access  2015-05-27 13:12:43+00:00  2015-05-27 13:12:43+00:00"
      ]
     },
     "execution_count": 2,
     "metadata": {},
     "output_type": "execute_result"
    }
   ],
   "source": [
    "%td_databases"
   ]
  },
  {
   "cell_type": "markdown",
   "metadata": {},
   "source": [
    "``%td_tables`` returns the list of tables:"
   ]
  },
  {
   "cell_type": "code",
   "execution_count": 3,
   "metadata": {
    "collapsed": false
   },
   "outputs": [
    {
     "data": {
      "text/html": [
       "<div style=\"max-height:1000px;max-width:1500px;overflow:auto;\">\n",
       "<table border=\"1\" class=\"dataframe\">\n",
       "  <thead>\n",
       "    <tr style=\"text-align: right;\">\n",
       "      <th></th>\n",
       "      <th>db_name</th>\n",
       "      <th>name</th>\n",
       "      <th>count</th>\n",
       "      <th>estimated_storage_size</th>\n",
       "      <th>last_log_timestamp</th>\n",
       "      <th>created_at</th>\n",
       "    </tr>\n",
       "  </thead>\n",
       "  <tbody>\n",
       "    <tr>\n",
       "      <th>0</th>\n",
       "      <td>sample_datasets</td>\n",
       "      <td>www_access</td>\n",
       "      <td>5000</td>\n",
       "      <td>0</td>\n",
       "      <td>2014-10-04 01:13:15+00:00</td>\n",
       "      <td>2014-10-04 01:13:12+00:00</td>\n",
       "    </tr>\n",
       "    <tr>\n",
       "      <th>1</th>\n",
       "      <td>sample_datasets</td>\n",
       "      <td>nasdaq</td>\n",
       "      <td>8807278</td>\n",
       "      <td>168205061</td>\n",
       "      <td>1970-01-01 00:00:00+00:00</td>\n",
       "      <td>2014-10-08 02:57:38+00:00</td>\n",
       "    </tr>\n",
       "  </tbody>\n",
       "</table>\n",
       "</div>"
      ],
      "text/plain": [
       "           db_name        name    count  estimated_storage_size         last_log_timestamp                 created_at\n",
       "0  sample_datasets  www_access     5000                       0  2014-10-04 01:13:15+00:00  2014-10-04 01:13:12+00:00\n",
       "1  sample_datasets      nasdaq  8807278               168205061  1970-01-01 00:00:00+00:00  2014-10-08 02:57:38+00:00"
      ]
     },
     "execution_count": 3,
     "metadata": {},
     "output_type": "execute_result"
    }
   ],
   "source": [
    "%td_tables sample"
   ]
  },
  {
   "cell_type": "markdown",
   "metadata": {},
   "source": [
    "``%td_jobs`` returns the list of recently executed jobs:"
   ]
  },
  {
   "cell_type": "code",
   "execution_count": 4,
   "metadata": {
    "collapsed": false,
    "scrolled": true
   },
   "outputs": [
    {
     "data": {
      "text/html": [
       "<div style=\"max-height:1000px;max-width:1500px;overflow:auto;\">\n",
       "<table border=\"1\" class=\"dataframe\">\n",
       "  <thead>\n",
       "    <tr style=\"text-align: right;\">\n",
       "      <th></th>\n",
       "      <th>status</th>\n",
       "      <th>job_id</th>\n",
       "      <th>type</th>\n",
       "      <th>start_at</th>\n",
       "      <th>query</th>\n",
       "    </tr>\n",
       "  </thead>\n",
       "  <tbody>\n",
       "    <tr>\n",
       "      <th>0</th>\n",
       "      <td>success</td>\n",
       "      <td>28870939</td>\n",
       "      <td>presto</td>\n",
       "      <td>2015-07-10 19:37:05+00:00</td>\n",
       "      <td>-- read_td_table('nasdaq')\\nSELECT time, symbo...</td>\n",
       "    </tr>\n",
       "    <tr>\n",
       "      <th>1</th>\n",
       "      <td>success</td>\n",
       "      <td>28870917</td>\n",
       "      <td>presto</td>\n",
       "      <td>2015-07-10 19:36:05+00:00</td>\n",
       "      <td>-- read_td_table('nasdaq')\\nSELECT time, symbo...</td>\n",
       "    </tr>\n",
       "    <tr>\n",
       "      <th>2</th>\n",
       "      <td>success</td>\n",
       "      <td>28870902</td>\n",
       "      <td>presto</td>\n",
       "      <td>2015-07-10 19:35:40+00:00</td>\n",
       "      <td>-- read_td_table('www_access')\\nSELECT *\\nFROM...</td>\n",
       "    </tr>\n",
       "  </tbody>\n",
       "</table>\n",
       "</div>"
      ],
      "text/plain": [
       "    status    job_id    type                   start_at                                              query\n",
       "0  success  28870939  presto  2015-07-10 19:37:05+00:00  -- read_td_table('nasdaq')\\nSELECT time, symbo...\n",
       "1  success  28870917  presto  2015-07-10 19:36:05+00:00  -- read_td_table('nasdaq')\\nSELECT time, symbo...\n",
       "2  success  28870902  presto  2015-07-10 19:35:40+00:00  -- read_td_table('www_access')\\nSELECT *\\nFROM..."
      ]
     },
     "execution_count": 4,
     "metadata": {},
     "output_type": "execute_result"
    }
   ],
   "source": [
    "%td_jobs"
   ]
  },
  {
   "cell_type": "markdown",
   "metadata": {},
   "source": [
    "# Use database"
   ]
  },
  {
   "cell_type": "markdown",
   "metadata": {},
   "source": [
    "``%td_use`` is a special function that has side effects.  First, it pushes table names into the current namespace:"
   ]
  },
  {
   "cell_type": "code",
   "execution_count": 5,
   "metadata": {
    "collapsed": false,
    "scrolled": true
   },
   "outputs": [
    {
     "name": "stdout",
     "output_type": "stream",
     "text": [
      "INFO: import nasdaq\n",
      "INFO: import www_access\n"
     ]
    }
   ],
   "source": [
    "%td_use sample_datasets"
   ]
  },
  {
   "cell_type": "markdown",
   "metadata": {},
   "source": [
    "By printing a table name, you can describe column names:"
   ]
  },
  {
   "cell_type": "code",
   "execution_count": 6,
   "metadata": {
    "collapsed": false,
    "scrolled": true
   },
   "outputs": [
    {
     "data": {
      "text/html": [
       "<div style=\"max-height:1000px;max-width:1500px;overflow:auto;\">\n",
       "<table border=\"1\" class=\"dataframe\">\n",
       "  <thead>\n",
       "    <tr style=\"text-align: right;\">\n",
       "      <th></th>\n",
       "      <th>field</th>\n",
       "      <th>type</th>\n",
       "      <th>alias</th>\n",
       "    </tr>\n",
       "  </thead>\n",
       "  <tbody>\n",
       "    <tr>\n",
       "      <th>0</th>\n",
       "      <td>symbol</td>\n",
       "      <td>string</td>\n",
       "      <td></td>\n",
       "    </tr>\n",
       "    <tr>\n",
       "      <th>1</th>\n",
       "      <td>open</td>\n",
       "      <td>double</td>\n",
       "      <td></td>\n",
       "    </tr>\n",
       "    <tr>\n",
       "      <th>2</th>\n",
       "      <td>volume</td>\n",
       "      <td>long</td>\n",
       "      <td></td>\n",
       "    </tr>\n",
       "    <tr>\n",
       "      <th>3</th>\n",
       "      <td>high</td>\n",
       "      <td>double</td>\n",
       "      <td></td>\n",
       "    </tr>\n",
       "    <tr>\n",
       "      <th>4</th>\n",
       "      <td>low</td>\n",
       "      <td>double</td>\n",
       "      <td></td>\n",
       "    </tr>\n",
       "    <tr>\n",
       "      <th>5</th>\n",
       "      <td>close</td>\n",
       "      <td>double</td>\n",
       "      <td></td>\n",
       "    </tr>\n",
       "  </tbody>\n",
       "</table>\n",
       "</div>"
      ],
      "text/plain": [
       "<pandas_td.ipython.MagicTable at 0x1076b6b70>"
      ]
     },
     "execution_count": 6,
     "metadata": {},
     "output_type": "execute_result"
    }
   ],
   "source": [
    "nasdaq"
   ]
  },
  {
   "cell_type": "markdown",
   "metadata": {},
   "source": [
    "Tab completion is also supported:\n",
    "\n",
    "![Tab completion](http://i.gyazo.com/fde882bc1bd665ba080cbd72222e27cb.png)"
   ]
  },
  {
   "cell_type": "markdown",
   "metadata": {},
   "source": [
    "As the second effect of ``%td_use``, it declares \"default database\", which is used when you write queries without databases."
   ]
  },
  {
   "cell_type": "markdown",
   "metadata": {},
   "source": [
    "# Query functions"
   ]
  },
  {
   "cell_type": "markdown",
   "metadata": {},
   "source": [
    "``%%td_hive``, ``%%td_pig``, and ``%%td_presto`` are cell magic functions that run queries:"
   ]
  },
  {
   "cell_type": "code",
   "execution_count": 7,
   "metadata": {
    "collapsed": false
   },
   "outputs": [
    {
     "data": {
      "text/html": [
       "<div style=\"max-height:1000px;max-width:1500px;overflow:auto;\">\n",
       "<table border=\"1\" class=\"dataframe\">\n",
       "  <thead>\n",
       "    <tr style=\"text-align: right;\">\n",
       "      <th></th>\n",
       "      <th>cnt</th>\n",
       "    </tr>\n",
       "  </thead>\n",
       "  <tbody>\n",
       "    <tr>\n",
       "      <th>0</th>\n",
       "      <td>8807278</td>\n",
       "    </tr>\n",
       "  </tbody>\n",
       "</table>\n",
       "</div>"
      ],
      "text/plain": [
       "       cnt\n",
       "0  8807278"
      ]
     },
     "execution_count": 7,
     "metadata": {},
     "output_type": "execute_result"
    }
   ],
   "source": [
    "%%td_presto\n",
    "select count(1) cnt\n",
    "from nasdaq"
   ]
  },
  {
   "cell_type": "markdown",
   "metadata": {},
   "source": [
    "The result of the query can be stored in a variable by ``-o``:"
   ]
  },
  {
   "cell_type": "code",
   "execution_count": 8,
   "metadata": {
    "collapsed": false
   },
   "outputs": [],
   "source": [
    "%%td_presto -o df\n",
    "select count(1) cnt\n",
    "from nasdaq"
   ]
  },
  {
   "cell_type": "code",
   "execution_count": 9,
   "metadata": {
    "collapsed": false
   },
   "outputs": [
    {
     "data": {
      "text/html": [
       "<div style=\"max-height:1000px;max-width:1500px;overflow:auto;\">\n",
       "<table border=\"1\" class=\"dataframe\">\n",
       "  <thead>\n",
       "    <tr style=\"text-align: right;\">\n",
       "      <th></th>\n",
       "      <th>cnt</th>\n",
       "    </tr>\n",
       "  </thead>\n",
       "  <tbody>\n",
       "    <tr>\n",
       "      <th>0</th>\n",
       "      <td>8807278</td>\n",
       "    </tr>\n",
       "  </tbody>\n",
       "</table>\n",
       "</div>"
      ],
      "text/plain": [
       "       cnt\n",
       "0  8807278"
      ]
     },
     "execution_count": 9,
     "metadata": {},
     "output_type": "execute_result"
    }
   ],
   "source": [
    "df"
   ]
  },
  {
   "cell_type": "markdown",
   "metadata": {},
   "source": [
    "Or you can save the result into a file by ``-O``:"
   ]
  },
  {
   "cell_type": "code",
   "execution_count": 10,
   "metadata": {
    "collapsed": false
   },
   "outputs": [
    {
     "name": "stdout",
     "output_type": "stream",
     "text": [
      "INFO: saved to './output.csv'\n"
     ]
    }
   ],
   "source": [
    "%%td_presto -O './output.csv'\n",
    "select count(1) cnt\n",
    "from nasdaq"
   ]
  },
  {
   "cell_type": "markdown",
   "metadata": {},
   "source": [
    "Python-style variable substition is supported:"
   ]
  },
  {
   "cell_type": "code",
   "execution_count": 11,
   "metadata": {
    "collapsed": true
   },
   "outputs": [],
   "source": [
    "start = '2010-01-01'\n",
    "end = '2011-01-01'"
   ]
  },
  {
   "cell_type": "code",
   "execution_count": 12,
   "metadata": {
    "collapsed": false
   },
   "outputs": [
    {
     "data": {
      "text/html": [
       "<div style=\"max-height:1000px;max-width:1500px;overflow:auto;\">\n",
       "<table border=\"1\" class=\"dataframe\">\n",
       "  <thead>\n",
       "    <tr style=\"text-align: right;\">\n",
       "      <th></th>\n",
       "      <th>cnt</th>\n",
       "    </tr>\n",
       "  </thead>\n",
       "  <tbody>\n",
       "    <tr>\n",
       "      <th>0</th>\n",
       "      <td>503399</td>\n",
       "    </tr>\n",
       "  </tbody>\n",
       "</table>\n",
       "</div>"
      ],
      "text/plain": [
       "      cnt\n",
       "0  503399"
      ]
     },
     "execution_count": 12,
     "metadata": {},
     "output_type": "execute_result"
    }
   ],
   "source": [
    "%%td_presto\n",
    "select count(1) cnt\n",
    "from nasdaq\n",
    "where td_time_range(time, '{start}', '{end}')"
   ]
  },
  {
   "cell_type": "markdown",
   "metadata": {},
   "source": [
    "You can preview the actual query by ``--dry-run`` (or ``-n``):"
   ]
  },
  {
   "cell_type": "code",
   "execution_count": 13,
   "metadata": {
    "collapsed": false
   },
   "outputs": [
    {
     "data": {
      "text/html": [
       "<pre style=\"background-color: #ffe;\"># translated code\n",
       "_q = '''\n",
       "select count(1) cnt\n",
       "from nasdaq\n",
       "where td_time_range(time, '2010-01-01', '2011-01-01')\n",
       "'''\n",
       "_e = td.create_engine('presto:sample_datasets')\n",
       "_d = td.read_td_query(_q, _e)\n",
       "</pre>\n"
      ],
      "text/plain": [
       "<IPython.core.display.HTML object>"
      ]
     },
     "metadata": {},
     "output_type": "display_data"
    }
   ],
   "source": [
    "%%td_presto -n\n",
    "select count(1) cnt\n",
    "from nasdaq\n",
    "where td_time_range(time, '{start}', '{end}')"
   ]
  },
  {
   "cell_type": "markdown",
   "metadata": {},
   "source": [
    "## Time-series index\n",
    "\n",
    "With magic functions, \"time\" column is converted into time-series index automatically.  You can use ``td_date_trunc()`` or ``td_time_format()`` in combination with ``GROUP BY`` for aggregation: "
   ]
  },
  {
   "cell_type": "code",
   "execution_count": 14,
   "metadata": {
    "collapsed": false
   },
   "outputs": [
    {
     "data": {
      "text/html": [
       "<div style=\"max-height:1000px;max-width:1500px;overflow:auto;\">\n",
       "<table border=\"1\" class=\"dataframe\">\n",
       "  <thead>\n",
       "    <tr style=\"text-align: right;\">\n",
       "      <th></th>\n",
       "      <th>cnt</th>\n",
       "    </tr>\n",
       "    <tr>\n",
       "      <th>time</th>\n",
       "      <th></th>\n",
       "    </tr>\n",
       "  </thead>\n",
       "  <tbody>\n",
       "    <tr>\n",
       "      <th>2014-01-01</th>\n",
       "      <td>488038</td>\n",
       "    </tr>\n",
       "    <tr>\n",
       "      <th>2013-01-01</th>\n",
       "      <td>604731</td>\n",
       "    </tr>\n",
       "    <tr>\n",
       "      <th>2012-01-01</th>\n",
       "      <td>568353</td>\n",
       "    </tr>\n",
       "  </tbody>\n",
       "</table>\n",
       "</div>"
      ],
      "text/plain": [
       "               cnt\n",
       "time              \n",
       "2014-01-01  488038\n",
       "2013-01-01  604731\n",
       "2012-01-01  568353"
      ]
     },
     "execution_count": 14,
     "metadata": {},
     "output_type": "execute_result"
    }
   ],
   "source": [
    "%%td_presto\n",
    "select\n",
    "    -- Time-series index (yearly)\n",
    "    td_date_trunc('year', time) time,\n",
    "\n",
    "    -- Same as above\n",
    "    -- td_time_format(time, 'yyyy-01-01') time,\n",
    "\n",
    "    count(1) cnt\n",
    "from\n",
    "    nasdaq\n",
    "group by\n",
    "    1\n",
    "limit\n",
    "    3"
   ]
  },
  {
   "cell_type": "markdown",
   "metadata": {},
   "source": [
    "## Plotting\n",
    "\n",
    "``--plot`` is a convenient option for plotting.  The first column represents x-axis.  Other columns represent y-axis:"
   ]
  },
  {
   "cell_type": "code",
   "execution_count": 15,
   "metadata": {
    "collapsed": true
   },
   "outputs": [],
   "source": [
    "%matplotlib inline"
   ]
  },
  {
   "cell_type": "code",
   "execution_count": 16,
   "metadata": {
    "collapsed": false
   },
   "outputs": [
    {
     "data": {
      "text/plain": [
       "<matplotlib.axes._subplots.AxesSubplot at 0x1071c5978>"
      ]
     },
     "execution_count": 16,
     "metadata": {},
     "output_type": "execute_result"
    },
    {
     "data": {
      "image/png": "[encoded data removed]",
      "text/plain": [
       "<matplotlib.figure.Figure at 0x10783bc50>"
      ]
     },
     "metadata": {},
     "output_type": "display_data"
    }
   ],
   "source": [
    "%%td_presto --plot\n",
    "select\n",
    "    -- x-axis\n",
    "    td_date_trunc('year', time) time,\n",
    "\n",
    "    -- y-axis\n",
    "    min(low) low,\n",
    "    max(high) high\n",
    "from\n",
    "    nasdaq\n",
    "where\n",
    "    symbol = 'AAPL'\n",
    "group by\n",
    "    1"
   ]
  },
  {
   "cell_type": "markdown",
   "metadata": {},
   "source": [
    "In practice, however, it is more efficient to execute rough calculation on the server side and store the result into a variable for further analysis:"
   ]
  },
  {
   "cell_type": "code",
   "execution_count": 17,
   "metadata": {
    "collapsed": false
   },
   "outputs": [],
   "source": [
    "%%td_presto -o df\n",
    "select\n",
    "    # daily summary\n",
    "    td_date_trunc('day', time) time,\n",
    "\n",
    "    min(low) low,\n",
    "    max(high) high,\n",
    "    sum(volume) volume\n",
    "from\n",
    "    nasdaq\n",
    "where\n",
    "    symbol = 'AAPL'\n",
    "group by\n",
    "    1"
   ]
  },
  {
   "cell_type": "code",
   "execution_count": 18,
   "metadata": {
    "collapsed": false
   },
   "outputs": [
    {
     "data": {
      "text/plain": [
       "<matplotlib.axes._subplots.AxesSubplot at 0x10a34cef0>"
      ]
     },
     "execution_count": 18,
     "metadata": {},
     "output_type": "execute_result"
    },
    {
     "data": {
      "image/png": "[encoded data removed]",
      "text/plain": [
       "<matplotlib.figure.Figure at 0x10a34fa20>"
      ]
     },
     "metadata": {},
     "output_type": "display_data"
    }
   ],
   "source": [
    "# Use resample for local calculation\n",
    "df['high'].resample('1m', how='max').plot()"
   ]
  },
  {
   "cell_type": "markdown",
   "metadata": {},
   "source": [
    "``--plot`` provides a shortcut way of plotting \"pivot charts\", as a combination of ``pivot_table()`` and ``plot()``.  If the query result contains non-numeric columns, or column names ending with \"_id\", they are used as ``columns`` parameter:"
   ]
  },
  {
   "cell_type": "code",
   "execution_count": 17,
   "metadata": {
    "collapsed": false
   },
   "outputs": [
    {
     "data": {
      "text/plain": [
       "<matplotlib.axes._subplots.AxesSubplot at 0x107878be0>"
      ]
     },
     "execution_count": 17,
     "metadata": {},
     "output_type": "execute_result"
    },
    {
     "data": {
      "image/png": "[encoded data removed]",
      "text/plain": [
       "<matplotlib.figure.Figure at 0x1078a18d0>"
      ]
     },
     "metadata": {},
     "output_type": "display_data"
    }
   ],
   "source": [
    "%%td_presto --plot\n",
    "select\n",
    "    -- x-axis\n",
    "    td_date_trunc('month', time) time,\n",
    "\n",
    "    -- columns\n",
    "    symbol,\n",
    "\n",
    "    -- y-axis\n",
    "    avg(close) close \n",
    "from\n",
    "    nasdaq\n",
    "where\n",
    "    symbol in ('AAPL', 'MSFT')\n",
    "group by\n",
    "    1, 2"
   ]
  },
  {
   "cell_type": "markdown",
   "metadata": {},
   "source": [
    "## Pivot tables"
   ]
  },
  {
   "cell_type": "markdown",
   "metadata": {
    "collapsed": true
   },
   "source": [
    "``--pivot`` creates a pivot table from the result of query.  Like ``--plot``, the first column represents index and other non-numeric columns represents new columns:"
   ]
  },
  {
   "cell_type": "code",
   "execution_count": 18,
   "metadata": {
    "collapsed": false
   },
   "outputs": [
    {
     "data": {
      "text/html": [
       "<div style=\"max-height:1000px;max-width:1500px;overflow:auto;\">\n",
       "<table border=\"1\" class=\"dataframe\">\n",
       "  <thead>\n",
       "    <tr style=\"text-align: right;\">\n",
       "      <th>symbol</th>\n",
       "      <th>AAIT</th>\n",
       "      <th>AAL</th>\n",
       "      <th>AAME</th>\n",
       "      <th>AAOI</th>\n",
       "      <th>AAON</th>\n",
       "      <th>AAPL</th>\n",
       "      <th>AAVL</th>\n",
       "      <th>AAWW</th>\n",
       "      <th>AAXJ</th>\n",
       "    </tr>\n",
       "    <tr>\n",
       "      <th>time</th>\n",
       "      <th></th>\n",
       "      <th></th>\n",
       "      <th></th>\n",
       "      <th></th>\n",
       "      <th></th>\n",
       "      <th></th>\n",
       "      <th></th>\n",
       "      <th></th>\n",
       "      <th></th>\n",
       "    </tr>\n",
       "  </thead>\n",
       "  <tbody>\n",
       "    <tr>\n",
       "      <th>2010-01-01</th>\n",
       "      <td>NaN</td>\n",
       "      <td>NaN</td>\n",
       "      <td>1.533376</td>\n",
       "      <td>NaN</td>\n",
       "      <td>6.969612</td>\n",
       "      <td>37.134102</td>\n",
       "      <td>NaN</td>\n",
       "      <td>50.654775</td>\n",
       "      <td>57.195677</td>\n",
       "    </tr>\n",
       "    <tr>\n",
       "      <th>2011-01-01</th>\n",
       "      <td>NaN</td>\n",
       "      <td>NaN</td>\n",
       "      <td>2.011771</td>\n",
       "      <td>NaN</td>\n",
       "      <td>8.949413</td>\n",
       "      <td>52.000335</td>\n",
       "      <td>NaN</td>\n",
       "      <td>51.993968</td>\n",
       "      <td>57.992659</td>\n",
       "    </tr>\n",
       "    <tr>\n",
       "      <th>2012-01-01</th>\n",
       "      <td>27.083288</td>\n",
       "      <td>NaN</td>\n",
       "      <td>2.702549</td>\n",
       "      <td>NaN</td>\n",
       "      <td>8.721841</td>\n",
       "      <td>82.292882</td>\n",
       "      <td>NaN</td>\n",
       "      <td>46.915226</td>\n",
       "      <td>55.078226</td>\n",
       "    </tr>\n",
       "    <tr>\n",
       "      <th>2013-01-01</th>\n",
       "      <td>28.865318</td>\n",
       "      <td>25.754375</td>\n",
       "      <td>3.718914</td>\n",
       "      <td>12.677075</td>\n",
       "      <td>14.904996</td>\n",
       "      <td>67.518991</td>\n",
       "      <td>NaN</td>\n",
       "      <td>43.477718</td>\n",
       "      <td>58.670437</td>\n",
       "    </tr>\n",
       "    <tr>\n",
       "      <th>2014-01-01</th>\n",
       "      <td>33.147182</td>\n",
       "      <td>34.268635</td>\n",
       "      <td>3.845645</td>\n",
       "      <td>20.009516</td>\n",
       "      <td>19.857238</td>\n",
       "      <td>86.402960</td>\n",
       "      <td>29.485122</td>\n",
       "      <td>35.345806</td>\n",
       "      <td>61.125349</td>\n",
       "    </tr>\n",
       "  </tbody>\n",
       "</table>\n",
       "</div>"
      ],
      "text/plain": [
       "symbol           AAIT        AAL      AAME       AAOI       AAON       AAPL       AAVL       AAWW       AAXJ\n",
       "time                                                                                                        \n",
       "2010-01-01        NaN        NaN  1.533376        NaN   6.969612  37.134102        NaN  50.654775  57.195677\n",
       "2011-01-01        NaN        NaN  2.011771        NaN   8.949413  52.000335        NaN  51.993968  57.992659\n",
       "2012-01-01  27.083288        NaN  2.702549        NaN   8.721841  82.292882        NaN  46.915226  55.078226\n",
       "2013-01-01  28.865318  25.754375  3.718914  12.677075  14.904996  67.518991        NaN  43.477718  58.670437\n",
       "2014-01-01  33.147182  34.268635  3.845645  20.009516  19.857238  86.402960  29.485122  35.345806  61.125349"
      ]
     },
     "execution_count": 18,
     "metadata": {},
     "output_type": "execute_result"
    }
   ],
   "source": [
    "%%td_presto --pivot\n",
    "select\n",
    "    td_date_trunc('year', time) time,\n",
    "    symbol,\n",
    "    avg(close) close \n",
    "from\n",
    "    nasdaq\n",
    "where\n",
    "    td_time_range(time, '2010', '2015')\n",
    "    and symbol like 'AA%'\n",
    "group by\n",
    "    1, 2"
   ]
  },
  {
   "cell_type": "markdown",
   "metadata": {
    "collapsed": true
   },
   "source": [
    "## Verbose output\n",
    "\n",
    "By passing ``-v`` (``--verbose``) option, you can print pseudo Python code that was executed by the magic function."
   ]
  },
  {
   "cell_type": "code",
   "execution_count": 19,
   "metadata": {
    "collapsed": false
   },
   "outputs": [
    {
     "data": {
      "text/html": [
       "<div style=\"border-style: dashed; border-width: 1px;\">\n",
       "<div style=\"color: #888;\"># issued at 2015-08-06T18:16:23Z</div>URL: <a href=\"https://console.treasuredata.com/jobs/30675377\" target=\"_blank\">https://console.treasuredata.com/jobs/30675377</a><br>\n",
       "<div style=\"color: #888;\"># started at 2015-08-06T18:16:24Z</div><pre style=\"color: #c44;\">\n",
       "** WARNING: time index filtering is not set on \n",
       "** This query could be very slow as a result.\n",
       "** Please see http://docs.treasure-data.com/articles/presto-performance-tuning#leveraging-time-based-partitioning</pre>\n",
       "<pre>2015-08-06 18:16:38:   rows  pending  running   done / total\n",
       "            Stage-0:     37        0        0      1 /     1\n",
       "            Stage-1:   1.4K        0        0      4 /     4\n",
       "            Stage-2:   8.8M        0        0     38 /    38</pre>Result size: 463 bytes<br>\n",
       "Download: 463 / 463 bytes (100.00%)<br>\n",
       "<div style=\"color: #888;\"># downloaded at 2015-08-06T18:16:41Z</div></div>\n"
      ],
      "text/plain": [
       "<IPython.core.display.HTML object>"
      ]
     },
     "metadata": {},
     "output_type": "display_data"
    },
    {
     "data": {
      "text/html": [
       "<pre style=\"background-color: #ffe;\"># translated code\n",
       "_q = '''\n",
       "select\n",
       "    td_date_trunc('year', time) time,\n",
       "    sum(volume) volume\n",
       "from\n",
       "    nasdaq\n",
       "group by\n",
       "    1\n",
       "'''\n",
       "_e = td.create_engine('presto:sample_datasets', clear_progress=False, show_progress=True)\n",
       "_d = td.read_td_query(_q, _e)\n",
       "_d['time'] = pd.to_datetime(_d['time'], unit='s')\n",
       "_d.set_index('time', inplace=True)\n",
       "_d.plot()\n",
       "</pre>\n"
      ],
      "text/plain": [
       "<IPython.core.display.HTML object>"
      ]
     },
     "metadata": {},
     "output_type": "display_data"
    },
    {
     "data": {
      "text/plain": [
       "<matplotlib.axes._subplots.AxesSubplot at 0x109f39240>"
      ]
     },
     "execution_count": 19,
     "metadata": {},
     "output_type": "execute_result"
    },
    {
     "data": {
      "image/png": "[encoded data removed]",
      "text/plain": [
       "<matplotlib.figure.Figure at 0x109cd0588>"
      ]
     },
     "metadata": {},
     "output_type": "display_data"
    }
   ],
   "source": [
    "%%td_presto -v --plot\n",
    "select\n",
    "    td_date_trunc('year', time) time,\n",
    "    sum(volume) volume\n",
    "from\n",
    "    nasdaq\n",
    "group by\n",
    "    1"
   ]
  },
  {
   "cell_type": "code",
   "execution_count": null,
   "metadata": {
    "collapsed": true
   },
   "outputs": [],
   "source": []
  }
 ],
 "metadata": {
  "kernelspec": {
   "display_name": "Python 3",
   "language": "python",
   "name": "python3"
  },
  "language_info": {
   "codemirror_mode": {
    "name": "ipython",
    "version": 3
   },
   "file_extension": ".py",
   "mimetype": "text/x-python",
   "name": "python",
   "nbconvert_exporter": "python",
   "pygments_lexer": "ipython3",
   "version": "3.4.3"
  }
 },
 "nbformat": 4,
 "nbformat_minor": 0
}
