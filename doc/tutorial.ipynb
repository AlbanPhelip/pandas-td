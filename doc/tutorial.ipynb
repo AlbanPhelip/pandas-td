{
 "cells": [
  {
   "cell_type": "markdown",
   "metadata": {},
   "source": [
    "# Getting Started\n",
    "\n",
    "This tutorial describes how to use Pandas-TD in Jupyter for exploring data interactively.  To start a Jupyter session, set your API key to the environment variable ``TD_API_KEY`` and run \"jupyter notebook\":\n",
    "\n",
    "```sh\n",
    "$ export TD_API_KEY=1234/abcd...\n",
    "$ jupyter notebook\n",
    "```\n",
    "\n",
    "You can connect to your database by ``create_engine``:"
   ]
  },
  {
   "cell_type": "code",
   "execution_count": 1,
   "metadata": {
    "collapsed": false
   },
   "outputs": [],
   "source": [
    "%matplotlib inline\n",
    "\n",
    "import os\n",
    "import pandas_td as td\n",
    "\n",
    "# Set engine type and database, using the default connection\n",
    "engine = td.create_engine('presto:sample_datasets')\n",
    "\n",
    "# Alternatively, initialize a connection explicitly\n",
    "con = td.connect(apikey=os.environ['TD_API_KEY'], endpoint='https://api.treasuredata.com/')\n",
    "engine = td.create_engine('presto:sample_datasets', con=con)"
   ]
  },
  {
   "cell_type": "markdown",
   "metadata": {},
   "source": [
    "You can run a query by ``read_td``:"
   ]
  },
  {
   "cell_type": "code",
   "execution_count": 2,
   "metadata": {
    "collapsed": false,
    "scrolled": false
   },
   "outputs": [
    {
     "data": {
      "text/html": [
       "<div>\n",
       "<table border=\"1\" class=\"dataframe\">\n",
       "  <thead>\n",
       "    <tr style=\"text-align: right;\">\n",
       "      <th></th>\n",
       "      <th>symbol</th>\n",
       "      <th>open</th>\n",
       "      <th>volume</th>\n",
       "      <th>high</th>\n",
       "      <th>low</th>\n",
       "      <th>close</th>\n",
       "      <th>time</th>\n",
       "    </tr>\n",
       "  </thead>\n",
       "  <tbody>\n",
       "    <tr>\n",
       "      <th>0</th>\n",
       "      <td>AXTI</td>\n",
       "      <td>2.17</td>\n",
       "      <td>108675</td>\n",
       "      <td>2.2099</td>\n",
       "      <td>2.14</td>\n",
       "      <td>2.17</td>\n",
       "      <td>1399564800</td>\n",
       "    </tr>\n",
       "    <tr>\n",
       "      <th>1</th>\n",
       "      <td>APEI</td>\n",
       "      <td>33.90</td>\n",
       "      <td>144500</td>\n",
       "      <td>35.0000</td>\n",
       "      <td>33.18</td>\n",
       "      <td>33.43</td>\n",
       "      <td>1399564800</td>\n",
       "    </tr>\n",
       "    <tr>\n",
       "      <th>2</th>\n",
       "      <td>ARQL</td>\n",
       "      <td>1.42</td>\n",
       "      <td>671424</td>\n",
       "      <td>1.4900</td>\n",
       "      <td>1.40</td>\n",
       "      <td>1.46</td>\n",
       "      <td>1399564800</td>\n",
       "    </tr>\n",
       "  </tbody>\n",
       "</table>\n",
       "</div>"
      ],
      "text/plain": [
       "  symbol   open  volume     high    low  close        time\n",
       "0   AXTI   2.17  108675   2.2099   2.14   2.17  1399564800\n",
       "1   APEI  33.90  144500  35.0000  33.18  33.43  1399564800\n",
       "2   ARQL   1.42  671424   1.4900   1.40   1.46  1399564800"
      ]
     },
     "execution_count": 2,
     "metadata": {},
     "output_type": "execute_result"
    }
   ],
   "source": [
    "query = '''\n",
    "select * from nasdaq limit 3\n",
    "'''\n",
    "td.read_td(query, engine)"
   ]
  },
  {
   "cell_type": "markdown",
   "metadata": {},
   "source": [
    "Or you can read an existing job result by ``read_td_job``:"
   ]
  },
  {
   "cell_type": "code",
   "execution_count": 3,
   "metadata": {
    "collapsed": false
   },
   "outputs": [
    {
     "data": {
      "text/html": [
       "<div>\n",
       "<table border=\"1\" class=\"dataframe\">\n",
       "  <thead>\n",
       "    <tr style=\"text-align: right;\">\n",
       "      <th></th>\n",
       "      <th>symbol</th>\n",
       "      <th>open</th>\n",
       "      <th>volume</th>\n",
       "      <th>high</th>\n",
       "      <th>low</th>\n",
       "      <th>close</th>\n",
       "      <th>time</th>\n",
       "    </tr>\n",
       "  </thead>\n",
       "  <tbody>\n",
       "    <tr>\n",
       "      <th>0</th>\n",
       "      <td>AXTI</td>\n",
       "      <td>2.17</td>\n",
       "      <td>108675</td>\n",
       "      <td>2.2099</td>\n",
       "      <td>2.14</td>\n",
       "      <td>2.17</td>\n",
       "      <td>1399564800</td>\n",
       "    </tr>\n",
       "    <tr>\n",
       "      <th>1</th>\n",
       "      <td>APEI</td>\n",
       "      <td>33.90</td>\n",
       "      <td>144500</td>\n",
       "      <td>35.0000</td>\n",
       "      <td>33.18</td>\n",
       "      <td>33.43</td>\n",
       "      <td>1399564800</td>\n",
       "    </tr>\n",
       "    <tr>\n",
       "      <th>2</th>\n",
       "      <td>ARQL</td>\n",
       "      <td>1.42</td>\n",
       "      <td>671424</td>\n",
       "      <td>1.4900</td>\n",
       "      <td>1.40</td>\n",
       "      <td>1.46</td>\n",
       "      <td>1399564800</td>\n",
       "    </tr>\n",
       "  </tbody>\n",
       "</table>\n",
       "</div>"
      ],
      "text/plain": [
       "  symbol   open  volume     high    low  close        time\n",
       "0   AXTI   2.17  108675   2.2099   2.14   2.17  1399564800\n",
       "1   APEI  33.90  144500  35.0000  33.18  33.43  1399564800\n",
       "2   ARQL   1.42  671424   1.4900   1.40   1.46  1399564800"
      ]
     },
     "execution_count": 3,
     "metadata": {},
     "output_type": "execute_result"
    }
   ],
   "source": [
    "td.read_td_job(35809747, engine)"
   ]
  },
  {
   "cell_type": "markdown",
   "metadata": {},
   "source": [
    "You can read a table into a DataFrame by ``read_td_table``, optionally with specific time range and limit:"
   ]
  },
  {
   "cell_type": "code",
   "execution_count": 4,
   "metadata": {
    "collapsed": false
   },
   "outputs": [],
   "source": [
    "# Read from a table with time range\n",
    "df = td.read_td_table('nasdaq', engine,\n",
    "                      time_range=('2000-01-01', '2010-01-01'),\n",
    "                      limit=10000)"
   ]
  },
  {
   "cell_type": "markdown",
   "metadata": {},
   "source": [
    "Importing a DataFrame into a table is also supported by ``to_td``:"
   ]
  },
  {
   "cell_type": "code",
   "execution_count": 5,
   "metadata": {
    "collapsed": false
   },
   "outputs": [],
   "source": [
    "# Create a DataFrame with random values\n",
    "df = pd.DataFrame(np.random.rand(3, 3), columns=['x', 'y', 'z'])\n",
    "\n",
    "# Import it into 'tutorial.tut1'\n",
    "con = td.connect()\n",
    "td.to_td(df, 'tutorial.tut1', con, if_exists='replace', index=False)"
   ]
  },
  {
   "cell_type": "markdown",
   "metadata": {},
   "source": [
    "Note that ``to_td`` currently uses Streaming API for imports.  It takes more than a few seconds until the imported data become visible."
   ]
  },
  {
   "cell_type": "code",
   "execution_count": 6,
   "metadata": {
    "collapsed": false
   },
   "outputs": [
    {
     "data": {
      "text/html": [
       "<div>\n",
       "<table border=\"1\" class=\"dataframe\">\n",
       "  <thead>\n",
       "    <tr style=\"text-align: right;\">\n",
       "      <th></th>\n",
       "      <th>z</th>\n",
       "      <th>y</th>\n",
       "      <th>x</th>\n",
       "      <th>time</th>\n",
       "    </tr>\n",
       "  </thead>\n",
       "  <tbody>\n",
       "    <tr>\n",
       "      <th>0</th>\n",
       "      <td>0.374156</td>\n",
       "      <td>0.574284</td>\n",
       "      <td>0.676774</td>\n",
       "      <td>1444386387</td>\n",
       "    </tr>\n",
       "    <tr>\n",
       "      <th>1</th>\n",
       "      <td>0.675502</td>\n",
       "      <td>0.172413</td>\n",
       "      <td>0.635920</td>\n",
       "      <td>1444386387</td>\n",
       "    </tr>\n",
       "    <tr>\n",
       "      <th>2</th>\n",
       "      <td>0.968693</td>\n",
       "      <td>0.767089</td>\n",
       "      <td>0.379203</td>\n",
       "      <td>1444386387</td>\n",
       "    </tr>\n",
       "  </tbody>\n",
       "</table>\n",
       "</div>"
      ],
      "text/plain": [
       "          z         y         x        time\n",
       "0  0.374156  0.574284  0.676774  1444386387\n",
       "1  0.675502  0.172413  0.635920  1444386387\n",
       "2  0.968693  0.767089  0.379203  1444386387"
      ]
     },
     "execution_count": 6,
     "metadata": {},
     "output_type": "execute_result"
    }
   ],
   "source": [
    "# Check the result after a while\n",
    "td.read_td_table('tutorial.tut1', engine)"
   ]
  },
  {
   "cell_type": "markdown",
   "metadata": {},
   "source": [
    "# create_engine"
   ]
  },
  {
   "cell_type": "code",
   "execution_count": 7,
   "metadata": {
    "collapsed": false
   },
   "outputs": [
    {
     "name": "stdout",
     "output_type": "stream",
     "text": [
      "Help on function create_engine in module pandas_td.td:\n",
      "\n",
      "create_engine(url, con=None, header=True, show_progress=5.0, clear_progress=True)\n",
      "    Create a handler for query engine based on a URL.\n",
      "    \n",
      "    The following environment variables are used for default connection:\n",
      "    \n",
      "      TD_API_KEY     API key\n",
      "      TD_API_SERVER  API server (default: api.treasuredata.com)\n",
      "      HTTP_PROXY     HTTP proxy (optional)\n",
      "    \n",
      "    Parameters\n",
      "    ----------\n",
      "    url : string\n",
      "        Engine descriptor in the form \"type://apikey@host/database?params...\"\n",
      "        Use shorthand notation \"type:database?params...\" for the default connection.\n",
      "    con : Connection, optional\n",
      "        Handler returned by connect. If not given, default connection is used.\n",
      "    header : string or boolean, default True\n",
      "        Prepend comment strings, in the form \"-- comment\", as a header of queries.\n",
      "        Set False to disable header.\n",
      "    show_progress : double or boolean, default 5.0\n",
      "        Number of seconds to wait before printing progress.\n",
      "        Set False to disable progress entirely.\n",
      "    clear_progress : boolean, default True\n",
      "        If True, clear progress when query completed.\n",
      "    \n",
      "    Returns\n",
      "    -------\n",
      "    QueryEngine\n",
      "\n"
     ]
    }
   ],
   "source": [
    "help(td.create_engine)"
   ]
  },
  {
   "cell_type": "markdown",
   "metadata": {},
   "source": [
    "### Examples"
   ]
  },
  {
   "cell_type": "code",
   "execution_count": 8,
   "metadata": {
    "collapsed": false
   },
   "outputs": [],
   "source": [
    "# presto\n",
    "engine = td.create_engine('presto://APIKEY@api.treasuredata.com/sample_datasets')\n",
    "\n",
    "# hive\n",
    "engine = td.create_engine('hive://APIKEY@api.treasuredata.com/sample_datasets')"
   ]
  },
  {
   "cell_type": "markdown",
   "metadata": {},
   "source": [
    "``create_engine`` uses \"default\" connection if apikey and host are omitted.  In this case, the environment variables \"TD_API_KEY\" and \"TD_API_SERVER\" are used to initialize a connection:"
   ]
  },
  {
   "cell_type": "code",
   "execution_count": 9,
   "metadata": {
    "collapsed": true
   },
   "outputs": [],
   "source": [
    "# use default connection (TD_API_KEY is used)\n",
    "engine = td.create_engine('presto:sample_datasets')"
   ]
  },
  {
   "cell_type": "markdown",
   "metadata": {},
   "source": [
    "If you prefer initializing a connection manually, you can use ``connect``:"
   ]
  },
  {
   "cell_type": "code",
   "execution_count": 10,
   "metadata": {
    "collapsed": false
   },
   "outputs": [],
   "source": [
    "# create a connection with detailed parameters (via tdclient.Client)\n",
    "# See https://github.com/treasure-data/td-client-python/blob/master/tdclient/api.py\n",
    "con = td.connect(apikey=os.environ['TD_API_KEY'],\n",
    "                 endpoint='https://api.treasuredata.com/',\n",
    "                 retry_post_requests=True)\n",
    "engine = td.create_engine('presto:sample_datasets', con=con)"
   ]
  },
  {
   "cell_type": "markdown",
   "metadata": {},
   "source": [
    "# read_td_query"
   ]
  },
  {
   "cell_type": "code",
   "execution_count": 11,
   "metadata": {
    "collapsed": false
   },
   "outputs": [
    {
     "name": "stdout",
     "output_type": "stream",
     "text": [
      "Help on function read_td_query in module pandas_td.td:\n",
      "\n",
      "read_td_query(query, engine, index_col=None, parse_dates=None, distributed_join=False, params=None)\n",
      "    Read Treasure Data query into a DataFrame.\n",
      "    \n",
      "    Returns a DataFrame corresponding to the result set of the query string.\n",
      "    Optionally provide an index_col parameter to use one of the columns as\n",
      "    the index, otherwise default integer index will be used.\n",
      "    \n",
      "    Parameters\n",
      "    ----------\n",
      "    query : string\n",
      "        Query string to be executed.\n",
      "    engine : QueryEngine\n",
      "        Handler returned by create_engine.\n",
      "    index_col : string, optional\n",
      "        Column name to use as index for the returned DataFrame object.\n",
      "    parse_dates : list or dict, optional\n",
      "        - List of column names to parse as dates\n",
      "        - Dict of {column_name: format string} where format string is strftime\n",
      "          compatible in case of parsing string times or is one of (D, s, ns, ms, us)\n",
      "          in case of parsing integer timestamps\n",
      "    distributed_join : boolean, default False\n",
      "        (Presto only) If True, distributed join is enabled. If False, broadcast join is used.\n",
      "        See https://prestodb.io/docs/current/release/release-0.77.html\n",
      "    params : dict, optional\n",
      "        Parameters to pass to execute method.\n",
      "        Available parameters:\n",
      "        - result_url (str): result output URL\n",
      "        - priority (int or str): priority (e.g. \"NORMAL\", \"HIGH\", etc.)\n",
      "        - retry_limit (int): retry limit\n",
      "    \n",
      "    Returns\n",
      "    -------\n",
      "    DataFrame\n",
      "\n"
     ]
    }
   ],
   "source": [
    "help(td.read_td_query)"
   ]
  },
  {
   "cell_type": "markdown",
   "metadata": {
    "collapsed": true
   },
   "source": [
    "### Examples"
   ]
  },
  {
   "cell_type": "code",
   "execution_count": 12,
   "metadata": {
    "collapsed": false
   },
   "outputs": [
    {
     "data": {
      "text/plain": [
       "<matplotlib.axes._subplots.AxesSubplot at 0x1078c0da0>"
      ]
     },
     "execution_count": 12,
     "metadata": {},
     "output_type": "execute_result"
    },
    {
     "data": {
      "image/png": "[encoded data removed]",
      "text/plain": [
       "<matplotlib.figure.Figure at 0x1078c0c88>"
      ]
     },
     "metadata": {},
     "output_type": "display_data"
    }
   ],
   "source": [
    "query = '''\n",
    "select time, close from nasdaq where symbol='AAPL'\n",
    "'''\n",
    "\n",
    "# Run a query, converting \"time\" to a time series index\n",
    "df = td.read_td_query(query, engine, index_col='time', parse_dates={'time': 's'})\n",
    "df.plot()"
   ]
  },
  {
   "cell_type": "markdown",
   "metadata": {},
   "source": [
    "# read_td_job"
   ]
  },
  {
   "cell_type": "code",
   "execution_count": 13,
   "metadata": {
    "collapsed": false
   },
   "outputs": [
    {
     "name": "stdout",
     "output_type": "stream",
     "text": [
      "Help on function read_td_job in module pandas_td.td:\n",
      "\n",
      "read_td_job(job_id, engine, index_col=None, parse_dates=None)\n",
      "    Read Treasure Data job result into a DataFrame.\n",
      "    \n",
      "    Returns a DataFrame corresponding to the result set of the job.\n",
      "    This method waits for job completion if the specified job is still running.\n",
      "    Optionally provide an index_col parameter to use one of the columns as\n",
      "    the index, otherwise default integer index will be used.\n",
      "    \n",
      "    Parameters\n",
      "    ----------\n",
      "    job_id : integer\n",
      "        Job ID.\n",
      "    engine : QueryEngine\n",
      "        Handler returned by create_engine.\n",
      "    index_col : string, optional\n",
      "        Column name to use as index for the returned DataFrame object.\n",
      "    parse_dates : list or dict, optional\n",
      "        - List of column names to parse as dates\n",
      "        - Dict of {column_name: format string} where format string is strftime\n",
      "          compatible in case of parsing string times or is one of (D, s, ns, ms, us)\n",
      "          in case of parsing integer timestamps\n",
      "    \n",
      "    Returns\n",
      "    -------\n",
      "    DataFrame\n",
      "\n"
     ]
    }
   ],
   "source": [
    "help(td.read_td_job)"
   ]
  },
  {
   "cell_type": "markdown",
   "metadata": {},
   "source": [
    "### Examples"
   ]
  },
  {
   "cell_type": "code",
   "execution_count": 14,
   "metadata": {
    "collapsed": false
   },
   "outputs": [],
   "source": [
    "import tdclient\n",
    "\n",
    "# Before using read_td_job, you need to issue a job separately\n",
    "client = tdclient.Client()\n",
    "job = client.query(\"sample_datasets\",\n",
    "                   \"select time, close from nasdaq where symbol='AAPL'\",\n",
    "                   type=\"presto\")"
   ]
  },
  {
   "cell_type": "code",
   "execution_count": 15,
   "metadata": {
    "collapsed": false
   },
   "outputs": [
    {
     "data": {
      "text/plain": [
       "<matplotlib.axes._subplots.AxesSubplot at 0x109dd0400>"
      ]
     },
     "execution_count": 15,
     "metadata": {},
     "output_type": "execute_result"
    },
    {
     "data": {
      "image/png": "[encoded data removed]",
      "text/plain": [
       "<matplotlib.figure.Figure at 0x109dda748>"
      ]
     },
     "metadata": {},
     "output_type": "display_data"
    }
   ],
   "source": [
    "# Get the job result and convert it to a dataframe\n",
    "df = td.read_td_job(job.id, engine, index_col='time', parse_dates={'time': 's'})\n",
    "df.plot()"
   ]
  },
  {
   "cell_type": "markdown",
   "metadata": {},
   "source": [
    "# read_td_table"
   ]
  },
  {
   "cell_type": "code",
   "execution_count": 16,
   "metadata": {
    "collapsed": false
   },
   "outputs": [
    {
     "name": "stdout",
     "output_type": "stream",
     "text": [
      "Help on function read_td_table in module pandas_td.td:\n",
      "\n",
      "read_td_table(table_name, engine, index_col=None, parse_dates=None, columns=None, time_range=None, sample=None, limit=10000)\n",
      "    Read Treasure Data table into a DataFrame.\n",
      "    \n",
      "    The number of returned rows is limited by \"limit\" (default 10,000).\n",
      "    Setting limit=None means all rows. Be careful when you set limit=None\n",
      "    because your table might be very large and the result does not fit into memory.\n",
      "    \n",
      "    Parameters\n",
      "    ----------\n",
      "    table_name : string\n",
      "        Name of Treasure Data table in database.\n",
      "    engine : QueryEngine\n",
      "        Handler returned by create_engine.\n",
      "    index_col : string, optional\n",
      "        Column name to use as index for the returned DataFrame object.\n",
      "    parse_dates : list or dict, optional\n",
      "        - List of column names to parse as dates\n",
      "        - Dict of {column_name: format string} where format string is strftime\n",
      "          compatible in case of parsing string times or is one of (D, s, ns, ms, us)\n",
      "          in case of parsing integer timestamps\n",
      "    columns : list, optional\n",
      "        List of column names to select from table.\n",
      "    time_range : tuple (start, end), optional\n",
      "        Limit time range to select. \"start\" and \"end\" are one of None, integers,\n",
      "        strings or datetime objects. \"end\" is exclusive, not included in the result.\n",
      "    sample : double, optional\n",
      "        Enable sampling data (Presto only). 1.0 means all data (100 percent).\n",
      "        See TABLESAMPLE BERNOULLI at https://prestodb.io/docs/current/sql/select.html\n",
      "    limit : int, default 10,000\n",
      "        Maximum number of rows to select.\n",
      "    \n",
      "    Returns\n",
      "    -------\n",
      "    DataFrame\n",
      "\n"
     ]
    }
   ],
   "source": [
    "help(td.read_td_table)"
   ]
  },
  {
   "cell_type": "markdown",
   "metadata": {},
   "source": [
    "### Examples"
   ]
  },
  {
   "cell_type": "code",
   "execution_count": 17,
   "metadata": {
    "collapsed": false
   },
   "outputs": [
    {
     "data": {
      "text/html": [
       "<div>\n",
       "<table border=\"1\" class=\"dataframe\">\n",
       "  <thead>\n",
       "    <tr style=\"text-align: right;\">\n",
       "      <th></th>\n",
       "      <th>user</th>\n",
       "      <th>host</th>\n",
       "      <th>path</th>\n",
       "      <th>referer</th>\n",
       "      <th>code</th>\n",
       "      <th>agent</th>\n",
       "      <th>size</th>\n",
       "      <th>method</th>\n",
       "      <th>time</th>\n",
       "    </tr>\n",
       "  </thead>\n",
       "  <tbody>\n",
       "    <tr>\n",
       "      <th>0</th>\n",
       "      <td>None</td>\n",
       "      <td>224.225.147.72</td>\n",
       "      <td>/category/books?from=10</td>\n",
       "      <td>/item/games/2018</td>\n",
       "      <td>200</td>\n",
       "      <td>Mozilla/4.0 (compatible; MSIE 8.0; Windows NT ...</td>\n",
       "      <td>135</td>\n",
       "      <td>GET</td>\n",
       "      <td>1412377189</td>\n",
       "    </tr>\n",
       "    <tr>\n",
       "      <th>1</th>\n",
       "      <td>None</td>\n",
       "      <td>136.204.225.125</td>\n",
       "      <td>/category/health</td>\n",
       "      <td>/category/games</td>\n",
       "      <td>200</td>\n",
       "      <td>Mozilla/5.0 (compatible; MSIE 9.0; Windows NT ...</td>\n",
       "      <td>136</td>\n",
       "      <td>GET</td>\n",
       "      <td>1412377179</td>\n",
       "    </tr>\n",
       "    <tr>\n",
       "      <th>2</th>\n",
       "      <td>None</td>\n",
       "      <td>32.57.104.68</td>\n",
       "      <td>/category/office</td>\n",
       "      <td>/category/computers</td>\n",
       "      <td>200</td>\n",
       "      <td>Mozilla/5.0 (compatible; Googlebot/2.1; +http:...</td>\n",
       "      <td>113</td>\n",
       "      <td>GET</td>\n",
       "      <td>1412377169</td>\n",
       "    </tr>\n",
       "  </tbody>\n",
       "</table>\n",
       "</div>"
      ],
      "text/plain": [
       "   user             host                     path              referer  code                                              agent  size method        time\n",
       "0  None   224.225.147.72  /category/books?from=10     /item/games/2018   200  Mozilla/4.0 (compatible; MSIE 8.0; Windows NT ...   135    GET  1412377189\n",
       "1  None  136.204.225.125         /category/health      /category/games   200  Mozilla/5.0 (compatible; MSIE 9.0; Windows NT ...   136    GET  1412377179\n",
       "2  None     32.57.104.68         /category/office  /category/computers   200  Mozilla/5.0 (compatible; Googlebot/2.1; +http:...   113    GET  1412377169"
      ]
     },
     "execution_count": 17,
     "metadata": {},
     "output_type": "execute_result"
    }
   ],
   "source": [
    "# Read all records (up to 10,000 rows by default)\n",
    "df = td.read_td_table(\"www_access\", engine)\n",
    "df.head(3)"
   ]
  },
  {
   "cell_type": "code",
   "execution_count": 18,
   "metadata": {
    "collapsed": false
   },
   "outputs": [
    {
     "data": {
      "text/plain": [
       "54926"
      ]
     },
     "execution_count": 18,
     "metadata": {},
     "output_type": "execute_result"
    }
   ],
   "source": [
    "# From 1990 to 2010, 1-percent sample, no limit\n",
    "df = td.read_td_table(\"nasdaq\",\n",
    "                      engine,\n",
    "                      index_col='time',\n",
    "                      parse_dates={'time': 's'},\n",
    "                      columns=['time', 'symbol', 'close'],\n",
    "                      time_range=('1990', '2010'),\n",
    "                      sample=0.01,\n",
    "                      limit=None)\n",
    "len(df)"
   ]
  },
  {
   "cell_type": "code",
   "execution_count": 19,
   "metadata": {
    "collapsed": false
   },
   "outputs": [
    {
     "data": {
      "text/plain": [
       "<matplotlib.axes._subplots.AxesSubplot at 0x108531588>"
      ]
     },
     "execution_count": 19,
     "metadata": {},
     "output_type": "execute_result"
    },
    {
     "data": {
      "image/png": "[encoded data removed]",
      "text/plain": [
       "<matplotlib.figure.Figure at 0x106ae5470>"
      ]
     },
     "metadata": {},
     "output_type": "display_data"
    }
   ],
   "source": [
    "df[df.symbol=='AAPL'].plot()"
   ]
  },
  {
   "cell_type": "markdown",
   "metadata": {},
   "source": [
    "# to_td"
   ]
  },
  {
   "cell_type": "code",
   "execution_count": 20,
   "metadata": {
    "collapsed": false
   },
   "outputs": [
    {
     "name": "stdout",
     "output_type": "stream",
     "text": [
      "Help on function to_td in module pandas_td.td:\n",
      "\n",
      "to_td(frame, name, con, if_exists='fail', time_col=None, time_index=None, index=True, index_label=None, chunksize=10000, date_format=None)\n",
      "    Write a DataFrame to a Treasure Data table.\n",
      "    \n",
      "    This method converts the dataframe into a series of key-value pairs\n",
      "    and send them using the Treasure Data streaming API. The data is divided\n",
      "    into chunks of rows (default 10,000) and uploaded separately. If upload\n",
      "    failed, the client retries the process for a certain amount of time\n",
      "    (max_cumul_retry_delay; default 600 secs). This method may fail and\n",
      "    raise an exception when retries did not success, in which case the data\n",
      "    may be partially inserted. Use the bulk import utility if you cannot\n",
      "    accept partial inserts.\n",
      "    \n",
      "    Parameters\n",
      "    ----------\n",
      "    frame : DataFrame\n",
      "        DataFrame to be written.\n",
      "    name : string\n",
      "        Name of table to be written, in the form 'database.table'.\n",
      "    con : Connection\n",
      "        Connection to a Treasure Data account.\n",
      "    if_exists: {'fail', 'replace', 'append'}, default 'fail'\n",
      "        - fail: If table exists, do nothing.\n",
      "        - replace: If table exists, drop it, recreate it, and insert data.\n",
      "        - append: If table exists, insert data. Create if does not exist.\n",
      "    time_col : string, optional\n",
      "        Column name to use as \"time\" column for the table. Column type must be\n",
      "        integer (unixtime), datetime, or string. If None is given (default),\n",
      "        then the current time is used as time values.\n",
      "    time_index : int, optional\n",
      "        Level of index to use as \"time\" column for the table. Set 0 for a single index.\n",
      "        This parameter implies index=False.\n",
      "    index : boolean, default True\n",
      "        Write DataFrame index as a column.\n",
      "    index_label : string or sequence, default None\n",
      "        Column label for index column(s). If None is given (default) and index is True,\n",
      "        then the index names are used. A sequence should be given if the DataFrame uses\n",
      "        MultiIndex.\n",
      "    chunksize : int, default 10,000\n",
      "        Number of rows to be inserted in each chunk from the dataframe.\n",
      "    date_format : string, default None\n",
      "        Format string for datetime objects\n",
      "\n"
     ]
    }
   ],
   "source": [
    "help(td.to_td)"
   ]
  },
  {
   "cell_type": "markdown",
   "metadata": {},
   "source": [
    "### Examples"
   ]
  },
  {
   "cell_type": "code",
   "execution_count": 21,
   "metadata": {
    "collapsed": true
   },
   "outputs": [],
   "source": [
    "# Create a DataFrame with random values\n",
    "df = pd.DataFrame(np.random.rand(3, 3), columns=['x', 'y', 'z'])"
   ]
  },
  {
   "cell_type": "markdown",
   "metadata": {},
   "source": [
    "``to_td`` fails if table already exists:"
   ]
  },
  {
   "cell_type": "code",
   "execution_count": 22,
   "metadata": {
    "collapsed": false
   },
   "outputs": [
    {
     "ename": "RuntimeError",
     "evalue": "table \"tutorial.tut1\" already exists",
     "output_type": "error",
     "traceback": [
      "\u001b[0;31m---------------------------------------------------------------------------\u001b[0m",
      "\u001b[0;31mRuntimeError\u001b[0m                              Traceback (most recent call last)",
      "\u001b[0;32m<ipython-input-22-3ee20f431658>\u001b[0m in \u001b[0;36m<module>\u001b[0;34m()\u001b[0m\n\u001b[0;32m----> 1\u001b[0;31m \u001b[0mtd\u001b[0m\u001b[0;34m.\u001b[0m\u001b[0mto_td\u001b[0m\u001b[0;34m(\u001b[0m\u001b[0mdf\u001b[0m\u001b[0;34m,\u001b[0m \u001b[0;34m'tutorial.tut1'\u001b[0m\u001b[0;34m,\u001b[0m \u001b[0mcon\u001b[0m\u001b[0;34m)\u001b[0m\u001b[0;34m\u001b[0m\u001b[0m\n\u001b[0m",
      "\u001b[0;32m/Users/knishida/projects/pandas-td/pandas_td/td.py\u001b[0m in \u001b[0;36mto_td\u001b[0;34m(frame, name, con, if_exists, time_col, time_index, index, index_label, chunksize, date_format)\u001b[0m\n\u001b[1;32m    570\u001b[0m             \u001b[0mcon\u001b[0m\u001b[0;34m.\u001b[0m\u001b[0mclient\u001b[0m\u001b[0;34m.\u001b[0m\u001b[0mcreate_log_table\u001b[0m\u001b[0;34m(\u001b[0m\u001b[0mdatabase\u001b[0m\u001b[0;34m,\u001b[0m \u001b[0mtable\u001b[0m\u001b[0;34m)\u001b[0m\u001b[0;34m\u001b[0m\u001b[0m\n\u001b[1;32m    571\u001b[0m         \u001b[0;32melse\u001b[0m\u001b[0;34m:\u001b[0m\u001b[0;34m\u001b[0m\u001b[0m\n\u001b[0;32m--> 572\u001b[0;31m             \u001b[0;32mraise\u001b[0m \u001b[0mRuntimeError\u001b[0m\u001b[0;34m(\u001b[0m\u001b[0;34m'table \"%s\" already exists'\u001b[0m \u001b[0;34m%\u001b[0m \u001b[0mname\u001b[0m\u001b[0;34m)\u001b[0m\u001b[0;34m\u001b[0m\u001b[0m\n\u001b[0m\u001b[1;32m    573\u001b[0m     \u001b[0;32melif\u001b[0m \u001b[0mif_exists\u001b[0m \u001b[0;34m==\u001b[0m \u001b[0;34m'replace'\u001b[0m\u001b[0;34m:\u001b[0m\u001b[0;34m\u001b[0m\u001b[0m\n\u001b[1;32m    574\u001b[0m         \u001b[0;32mtry\u001b[0m\u001b[0;34m:\u001b[0m\u001b[0;34m\u001b[0m\u001b[0m\n",
      "\u001b[0;31mRuntimeError\u001b[0m: table \"tutorial.tut1\" already exists"
     ]
    }
   ],
   "source": [
    "td.to_td(df, 'tutorial.tut1', con)"
   ]
  },
  {
   "cell_type": "code",
   "execution_count": 23,
   "metadata": {
    "collapsed": true
   },
   "outputs": [],
   "source": [
    "# Set \"if_exists\" to 'replace' or 'append'\n",
    "td.to_td(df, 'tutorial.tut1', con, if_exists='replace')"
   ]
  },
  {
   "cell_type": "markdown",
   "metadata": {},
   "source": [
    "Use ``index=False`` if you don't need to insert DataFrame index:"
   ]
  },
  {
   "cell_type": "code",
   "execution_count": 24,
   "metadata": {
    "collapsed": true
   },
   "outputs": [],
   "source": [
    "td.to_td(df, 'tutorial.tut1', con, if_exists='replace', index=False)"
   ]
  },
  {
   "cell_type": "markdown",
   "metadata": {},
   "source": [
    "``to_td`` inserts the current time as \"time\" column.  You can pass \"time\" column explicitly by ``time_col``:"
   ]
  },
  {
   "cell_type": "code",
   "execution_count": 25,
   "metadata": {
    "collapsed": true
   },
   "outputs": [],
   "source": [
    "import datetime\n",
    "\n",
    "df = pd.DataFrame(np.random.rand(3, 3), columns=['x', 'y', 'z'])\n",
    "\n",
    "# Set \"time\" column explicitly\n",
    "df['time'] = datetime.datetime.now()\n",
    "\n",
    "# Use \"time\" as the time column in Treasure Data\n",
    "td.to_td(df, 'tutorial.tut1', con, if_exists='replace', index=False, time_col='time')"
   ]
  },
  {
   "cell_type": "markdown",
   "metadata": {
    "collapsed": true
   },
   "source": [
    "If you are using a time series index, set ``time_index=0``:"
   ]
  },
  {
   "cell_type": "code",
   "execution_count": 26,
   "metadata": {
    "collapsed": false
   },
   "outputs": [],
   "source": [
    "df = pd.DataFrame(np.random.rand(3, 3), columns=['x', 'y', 'z'])\n",
    "\n",
    "# Set time series index\n",
    "df.index = pd.date_range('2001-01-01', periods=3)\n",
    "\n",
    "# Use index as the time column in Treasure Data\n",
    "td.to_td(df, 'tutorial.tut1', con, if_exists='replace', index=False, time_index=0)"
   ]
  },
  {
   "cell_type": "code",
   "execution_count": null,
   "metadata": {
    "collapsed": true
   },
   "outputs": [],
   "source": []
  }
 ],
 "metadata": {
  "kernelspec": {
   "display_name": "Python 3",
   "language": "python",
   "name": "python3"
  },
  "language_info": {
   "codemirror_mode": {
    "name": "ipython",
    "version": 3
   },
   "file_extension": ".py",
   "mimetype": "text/x-python",
   "name": "python",
   "nbconvert_exporter": "python",
   "pygments_lexer": "ipython3",
   "version": "3.4.3"
  }
 },
 "nbformat": 4,
 "nbformat_minor": 0
}
