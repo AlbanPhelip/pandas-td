{
 "cells": [
  {
   "cell_type": "markdown",
   "metadata": {},
   "source": [
    "# Getting Started\n",
    "\n",
    "Pandas-TD allows you to get your query result as a DataFrame and to store DataFrame to Treasure Data.\n",
    "\n",
    "Before starting any session, we recommend to set your API key to the environment variable ``TD_API_KEY``:\n",
    "\n",
    "    export TD_API_KEY=1234/abcd...\n",
    "\n",
    "You can initialize your connection by ``pandas_td.connect``:"
   ]
  },
  {
   "cell_type": "code",
   "execution_count": 1,
   "metadata": {
    "collapsed": false
   },
   "outputs": [],
   "source": [
    "import os\n",
    "import numpy as np\n",
    "import pandas as pd\n",
    "from pandas_td import connect\n",
    "from pandas_td import read_td\n",
    "from pandas_td import to_td\n",
    "\n",
    "# Initialize connection\n",
    "td = connect(apikey=os.environ['TD_API_KEY'], endpoint='https://api.treasuredata.com')"
   ]
  },
  {
   "cell_type": "markdown",
   "metadata": {},
   "source": [
    "Using a connection, you can use some convenient methods like ``databases`` and ``tables``:"
   ]
  },
  {
   "cell_type": "code",
   "execution_count": 2,
   "metadata": {
    "collapsed": false
   },
   "outputs": [
    {
     "data": {
      "text/html": [
       "<div style=\"max-height:1000px;max-width:1500px;overflow:auto;\">\n",
       "<table border=\"1\" class=\"dataframe\">\n",
       "  <thead>\n",
       "    <tr style=\"text-align: right;\">\n",
       "      <th></th>\n",
       "      <th>name</th>\n",
       "      <th>count</th>\n",
       "      <th>permission</th>\n",
       "      <th>created_at</th>\n",
       "      <th>updated_at</th>\n",
       "    </tr>\n",
       "  </thead>\n",
       "  <tbody>\n",
       "    <tr>\n",
       "      <th>0</th>\n",
       "      <td>tutorial</td>\n",
       "      <td>0</td>\n",
       "      <td>full_access</td>\n",
       "      <td>2015-05-27 13:12:43+00:00</td>\n",
       "      <td>2015-05-27 13:12:43+00:00</td>\n",
       "    </tr>\n",
       "    <tr>\n",
       "      <th>1</th>\n",
       "      <td>sample_datasets</td>\n",
       "      <td>8812278</td>\n",
       "      <td>query_only</td>\n",
       "      <td>2014-10-04 01:13:11+00:00</td>\n",
       "      <td>2015-01-09 01:07:14+00:00</td>\n",
       "    </tr>\n",
       "  </tbody>\n",
       "</table>\n",
       "</div>"
      ],
      "text/plain": [
       "              name    count   permission                 created_at                 updated_at\n",
       "0         tutorial        0  full_access  2015-05-27 13:12:43+00:00  2015-05-27 13:12:43+00:00\n",
       "1  sample_datasets  8812278   query_only  2014-10-04 01:13:11+00:00  2015-01-09 01:07:14+00:00"
      ]
     },
     "execution_count": 2,
     "metadata": {},
     "output_type": "execute_result"
    }
   ],
   "source": [
    "# Get a list of databases\n",
    "td.databases()"
   ]
  },
  {
   "cell_type": "code",
   "execution_count": 3,
   "metadata": {
    "collapsed": false
   },
   "outputs": [
    {
     "data": {
      "text/html": [
       "<div style=\"max-height:1000px;max-width:1500px;overflow:auto;\">\n",
       "<table border=\"1\" class=\"dataframe\">\n",
       "  <thead>\n",
       "    <tr style=\"text-align: right;\">\n",
       "      <th></th>\n",
       "      <th>name</th>\n",
       "      <th>count</th>\n",
       "      <th>estimated_storage_size</th>\n",
       "      <th>last_log_timestamp</th>\n",
       "      <th>created_at</th>\n",
       "    </tr>\n",
       "  </thead>\n",
       "  <tbody>\n",
       "    <tr>\n",
       "      <th>0</th>\n",
       "      <td>nasdaq</td>\n",
       "      <td>8807278</td>\n",
       "      <td>168205061</td>\n",
       "      <td>1970-01-01 00:00:00+00:00</td>\n",
       "      <td>2014-10-08 02:57:38+00:00</td>\n",
       "    </tr>\n",
       "    <tr>\n",
       "      <th>1</th>\n",
       "      <td>www_access</td>\n",
       "      <td>5000</td>\n",
       "      <td>0</td>\n",
       "      <td>2014-10-04 01:13:15+00:00</td>\n",
       "      <td>2014-10-04 01:13:12+00:00</td>\n",
       "    </tr>\n",
       "  </tbody>\n",
       "</table>\n",
       "</div>"
      ],
      "text/plain": [
       "         name    count  estimated_storage_size         last_log_timestamp                 created_at\n",
       "0      nasdaq  8807278               168205061  1970-01-01 00:00:00+00:00  2014-10-08 02:57:38+00:00\n",
       "1  www_access     5000                       0  2014-10-04 01:13:15+00:00  2014-10-04 01:13:12+00:00"
      ]
     },
     "execution_count": 3,
     "metadata": {},
     "output_type": "execute_result"
    }
   ],
   "source": [
    "# Get a list of tables\n",
    "td.tables('sample_datasets')"
   ]
  },
  {
   "cell_type": "markdown",
   "metadata": {},
   "source": [
    "You can choose a query engine and pass it to ``pandas_td.read_td`` to run a query:"
   ]
  },
  {
   "cell_type": "code",
   "execution_count": 4,
   "metadata": {
    "collapsed": false,
    "scrolled": true
   },
   "outputs": [
    {
     "data": {
      "text/html": [
       "<div style=\"max-height:1000px;max-width:1500px;overflow:auto;\">\n",
       "<table border=\"1\" class=\"dataframe\">\n",
       "  <thead>\n",
       "    <tr style=\"text-align: right;\">\n",
       "      <th></th>\n",
       "      <th>symbol</th>\n",
       "      <th>open</th>\n",
       "      <th>volume</th>\n",
       "      <th>high</th>\n",
       "      <th>low</th>\n",
       "      <th>close</th>\n",
       "      <th>time</th>\n",
       "    </tr>\n",
       "  </thead>\n",
       "  <tbody>\n",
       "    <tr>\n",
       "      <th>0</th>\n",
       "      <td>ACGL</td>\n",
       "      <td>54.45</td>\n",
       "      <td>842365</td>\n",
       "      <td>54.83</td>\n",
       "      <td>54.450</td>\n",
       "      <td>54.70</td>\n",
       "      <td>1411401600</td>\n",
       "    </tr>\n",
       "    <tr>\n",
       "      <th>1</th>\n",
       "      <td>APEI</td>\n",
       "      <td>28.59</td>\n",
       "      <td>132661</td>\n",
       "      <td>28.65</td>\n",
       "      <td>27.790</td>\n",
       "      <td>28.28</td>\n",
       "      <td>1411401600</td>\n",
       "    </tr>\n",
       "    <tr>\n",
       "      <th>2</th>\n",
       "      <td>AVEO</td>\n",
       "      <td>1.29</td>\n",
       "      <td>461162</td>\n",
       "      <td>1.29</td>\n",
       "      <td>1.155</td>\n",
       "      <td>1.18</td>\n",
       "      <td>1411401600</td>\n",
       "    </tr>\n",
       "    <tr>\n",
       "      <th>3</th>\n",
       "      <td>AMSWA</td>\n",
       "      <td>8.79</td>\n",
       "      <td>79824</td>\n",
       "      <td>8.89</td>\n",
       "      <td>8.720</td>\n",
       "      <td>8.74</td>\n",
       "      <td>1411401600</td>\n",
       "    </tr>\n",
       "    <tr>\n",
       "      <th>4</th>\n",
       "      <td>AROW</td>\n",
       "      <td>25.92</td>\n",
       "      <td>16818</td>\n",
       "      <td>26.00</td>\n",
       "      <td>25.530</td>\n",
       "      <td>25.54</td>\n",
       "      <td>1411401600</td>\n",
       "    </tr>\n",
       "  </tbody>\n",
       "</table>\n",
       "</div>"
      ],
      "text/plain": [
       "  symbol   open  volume   high     low  close        time\n",
       "0   ACGL  54.45  842365  54.83  54.450  54.70  1411401600\n",
       "1   APEI  28.59  132661  28.65  27.790  28.28  1411401600\n",
       "2   AVEO   1.29  461162   1.29   1.155   1.18  1411401600\n",
       "3  AMSWA   8.79   79824   8.89   8.720   8.74  1411401600\n",
       "4   AROW  25.92   16818  26.00  25.530  25.54  1411401600"
      ]
     },
     "execution_count": 4,
     "metadata": {},
     "output_type": "execute_result"
    }
   ],
   "source": [
    "# Select a query engine\n",
    "presto = td.query_engine(database='sample_datasets', type='presto')\n",
    "\n",
    "# Run a query\n",
    "read_td('select * from nasdaq limit 5', presto)"
   ]
  },
  {
   "cell_type": "markdown",
   "metadata": {},
   "source": [
    "It is also straightforward to import a DataFrame into a table by using ``pandas_td.to_td``:"
   ]
  },
  {
   "cell_type": "code",
   "execution_count": 5,
   "metadata": {
    "collapsed": false
   },
   "outputs": [],
   "source": [
    "# Create a DataFrame with random values\n",
    "df = pd.DataFrame(np.random.rand(4, 3), columns=['x', 'y', 'z'])\n",
    "\n",
    "# Import it into 'tutorial.tut1'\n",
    "to_td(df, 'tutorial.tut1', td, index=False)"
   ]
  },
  {
   "cell_type": "code",
   "execution_count": 6,
   "metadata": {
    "collapsed": false
   },
   "outputs": [
    {
     "data": {
      "text/html": [
       "<div style=\"max-height:1000px;max-width:1500px;overflow:auto;\">\n",
       "<table border=\"1\" class=\"dataframe\">\n",
       "  <thead>\n",
       "    <tr style=\"text-align: right;\">\n",
       "      <th></th>\n",
       "      <th>z</th>\n",
       "      <th>y</th>\n",
       "      <th>x</th>\n",
       "      <th>time</th>\n",
       "    </tr>\n",
       "  </thead>\n",
       "  <tbody>\n",
       "    <tr>\n",
       "      <th>0</th>\n",
       "      <td>0.898377</td>\n",
       "      <td>0.053566</td>\n",
       "      <td>0.101563</td>\n",
       "      <td>1432734481</td>\n",
       "    </tr>\n",
       "    <tr>\n",
       "      <th>1</th>\n",
       "      <td>0.670632</td>\n",
       "      <td>0.503762</td>\n",
       "      <td>0.566276</td>\n",
       "      <td>1432734481</td>\n",
       "    </tr>\n",
       "    <tr>\n",
       "      <th>2</th>\n",
       "      <td>0.139800</td>\n",
       "      <td>0.210144</td>\n",
       "      <td>0.295164</td>\n",
       "      <td>1432734481</td>\n",
       "    </tr>\n",
       "    <tr>\n",
       "      <th>3</th>\n",
       "      <td>0.535834</td>\n",
       "      <td>0.768914</td>\n",
       "      <td>0.361069</td>\n",
       "      <td>1432734481</td>\n",
       "    </tr>\n",
       "  </tbody>\n",
       "</table>\n",
       "</div>"
      ],
      "text/plain": [
       "          z         y         x        time\n",
       "0  0.898377  0.053566  0.101563  1432734481\n",
       "1  0.670632  0.503762  0.566276  1432734481\n",
       "2  0.139800  0.210144  0.295164  1432734481\n",
       "3  0.535834  0.768914  0.361069  1432734481"
      ]
     },
     "execution_count": 6,
     "metadata": {},
     "output_type": "execute_result"
    }
   ],
   "source": [
    "# Check the result\n",
    "read_td('select * from tutorial.tut1', presto)"
   ]
  }
 ],
 "metadata": {
  "kernelspec": {
   "display_name": "Python 3",
   "language": "python",
   "name": "python3"
  },
  "language_info": {
   "codemirror_mode": {
    "name": "ipython",
    "version": 3
   },
   "file_extension": ".py",
   "mimetype": "text/x-python",
   "name": "python",
   "nbconvert_exporter": "python",
   "pygments_lexer": "ipython3",
   "version": "3.4.3"
  }
 },
 "nbformat": 4,
 "nbformat_minor": 0
}
