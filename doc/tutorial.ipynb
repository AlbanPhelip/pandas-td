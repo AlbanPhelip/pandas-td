{
 "cells": [
  {
   "cell_type": "markdown",
   "metadata": {},
   "source": [
    "# Getting Started\n",
    "\n",
    "Pandas-TD allows you to read a query result into a DataFrame and to store a DataFrame to Treasure Data.\n",
    "\n",
    "Before starting any session, you need to set your API key to the environment variable ``TD_API_KEY``:\n",
    "\n",
    "    export TD_API_KEY=1234/abcd...\n",
    "\n",
    "You can initialize your connection by ``connect``:"
   ]
  },
  {
   "cell_type": "code",
   "execution_count": 1,
   "metadata": {
    "collapsed": false
   },
   "outputs": [],
   "source": [
    "%matplotlib inline\n",
    "\n",
    "import os\n",
    "import numpy as np\n",
    "import pandas as pd\n",
    "import pandas_td as td\n",
    "\n",
    "# Initialize connection\n",
    "con = td.connect(apikey=os.environ['TD_API_KEY'], endpoint='https://api.treasuredata.com/')"
   ]
  },
  {
   "cell_type": "markdown",
   "metadata": {},
   "source": [
    "Using a connection, you can use some convenient methods like ``databases`` and ``tables``:"
   ]
  },
  {
   "cell_type": "code",
   "execution_count": 2,
   "metadata": {
    "collapsed": false
   },
   "outputs": [
    {
     "data": {
      "text/html": [
       "<div style=\"max-height:1000px;max-width:1500px;overflow:auto;\">\n",
       "<table border=\"1\" class=\"dataframe\">\n",
       "  <thead>\n",
       "    <tr style=\"text-align: right;\">\n",
       "      <th></th>\n",
       "      <th>name</th>\n",
       "      <th>count</th>\n",
       "      <th>permission</th>\n",
       "      <th>created_at</th>\n",
       "      <th>updated_at</th>\n",
       "    </tr>\n",
       "  </thead>\n",
       "  <tbody>\n",
       "    <tr>\n",
       "      <th>0</th>\n",
       "      <td>tutorial</td>\n",
       "      <td>19</td>\n",
       "      <td>full_access</td>\n",
       "      <td>2015-05-27 13:12:43+00:00</td>\n",
       "      <td>2015-05-27 13:12:43+00:00</td>\n",
       "    </tr>\n",
       "    <tr>\n",
       "      <th>1</th>\n",
       "      <td>sample_datasets</td>\n",
       "      <td>8812278</td>\n",
       "      <td>query_only</td>\n",
       "      <td>2014-10-04 01:13:11+00:00</td>\n",
       "      <td>2015-01-09 01:07:14+00:00</td>\n",
       "    </tr>\n",
       "  </tbody>\n",
       "</table>\n",
       "</div>"
      ],
      "text/plain": [
       "              name    count   permission                 created_at  \\\n",
       "0         tutorial       19  full_access  2015-05-27 13:12:43+00:00   \n",
       "1  sample_datasets  8812278   query_only  2014-10-04 01:13:11+00:00   \n",
       "\n",
       "                  updated_at  \n",
       "0  2015-05-27 13:12:43+00:00  \n",
       "1  2015-01-09 01:07:14+00:00  "
      ]
     },
     "execution_count": 2,
     "metadata": {},
     "output_type": "execute_result"
    }
   ],
   "source": [
    "# Get a list of databases\n",
    "con.databases()"
   ]
  },
  {
   "cell_type": "code",
   "execution_count": 3,
   "metadata": {
    "collapsed": false
   },
   "outputs": [
    {
     "data": {
      "text/html": [
       "<div style=\"max-height:1000px;max-width:1500px;overflow:auto;\">\n",
       "<table border=\"1\" class=\"dataframe\">\n",
       "  <thead>\n",
       "    <tr style=\"text-align: right;\">\n",
       "      <th></th>\n",
       "      <th>name</th>\n",
       "      <th>count</th>\n",
       "      <th>estimated_storage_size</th>\n",
       "      <th>last_log_timestamp</th>\n",
       "      <th>created_at</th>\n",
       "    </tr>\n",
       "  </thead>\n",
       "  <tbody>\n",
       "    <tr>\n",
       "      <th>0</th>\n",
       "      <td>nasdaq</td>\n",
       "      <td>8807278</td>\n",
       "      <td>168205061</td>\n",
       "      <td>1970-01-01 00:00:00+00:00</td>\n",
       "      <td>2014-10-08 02:57:38+00:00</td>\n",
       "    </tr>\n",
       "    <tr>\n",
       "      <th>1</th>\n",
       "      <td>www_access</td>\n",
       "      <td>5000</td>\n",
       "      <td>0</td>\n",
       "      <td>2014-10-04 01:13:15+00:00</td>\n",
       "      <td>2014-10-04 01:13:12+00:00</td>\n",
       "    </tr>\n",
       "  </tbody>\n",
       "</table>\n",
       "</div>"
      ],
      "text/plain": [
       "         name    count  estimated_storage_size         last_log_timestamp  \\\n",
       "0      nasdaq  8807278               168205061  1970-01-01 00:00:00+00:00   \n",
       "1  www_access     5000                       0  2014-10-04 01:13:15+00:00   \n",
       "\n",
       "                  created_at  \n",
       "0  2014-10-08 02:57:38+00:00  \n",
       "1  2014-10-04 01:13:12+00:00  "
      ]
     },
     "execution_count": 3,
     "metadata": {},
     "output_type": "execute_result"
    }
   ],
   "source": [
    "# Get a list of tables\n",
    "con.tables('sample_datasets')"
   ]
  },
  {
   "cell_type": "markdown",
   "metadata": {},
   "source": [
    "You can choose a query engine and use it to run a queby by ``read_td``:"
   ]
  },
  {
   "cell_type": "code",
   "execution_count": 4,
   "metadata": {
    "collapsed": false,
    "scrolled": true
   },
   "outputs": [
    {
     "data": {
      "text/html": [
       "<div style=\"max-height:1000px;max-width:1500px;overflow:auto;\">\n",
       "<table border=\"1\" class=\"dataframe\">\n",
       "  <thead>\n",
       "    <tr style=\"text-align: right;\">\n",
       "      <th></th>\n",
       "      <th>symbol</th>\n",
       "      <th>open</th>\n",
       "      <th>volume</th>\n",
       "      <th>high</th>\n",
       "      <th>low</th>\n",
       "      <th>close</th>\n",
       "      <th>time</th>\n",
       "    </tr>\n",
       "  </thead>\n",
       "  <tbody>\n",
       "    <tr>\n",
       "      <th>0</th>\n",
       "      <td>LINC</td>\n",
       "      <td>4.20</td>\n",
       "      <td>373825</td>\n",
       "      <td>4.60</td>\n",
       "      <td>4.16</td>\n",
       "      <td>4.49</td>\n",
       "      <td>1404144000</td>\n",
       "    </tr>\n",
       "    <tr>\n",
       "      <th>1</th>\n",
       "      <td>KBIO</td>\n",
       "      <td>2.32</td>\n",
       "      <td>490796</td>\n",
       "      <td>2.45</td>\n",
       "      <td>2.26</td>\n",
       "      <td>2.28</td>\n",
       "      <td>1404144000</td>\n",
       "    </tr>\n",
       "    <tr>\n",
       "      <th>2</th>\n",
       "      <td>ISIL</td>\n",
       "      <td>15.02</td>\n",
       "      <td>1694883</td>\n",
       "      <td>15.06</td>\n",
       "      <td>14.84</td>\n",
       "      <td>14.95</td>\n",
       "      <td>1404144000</td>\n",
       "    </tr>\n",
       "  </tbody>\n",
       "</table>\n",
       "</div>"
      ],
      "text/plain": [
       "  symbol   open   volume   high    low  close        time\n",
       "0   LINC   4.20   373825   4.60   4.16   4.49  1404144000\n",
       "1   KBIO   2.32   490796   2.45   2.26   2.28  1404144000\n",
       "2   ISIL  15.02  1694883  15.06  14.84  14.95  1404144000"
      ]
     },
     "execution_count": 4,
     "metadata": {},
     "output_type": "execute_result"
    }
   ],
   "source": [
    "# Select a query engine\n",
    "presto = con.query_engine(database='sample_datasets', type='presto')\n",
    "\n",
    "# Run a query\n",
    "td.read_td('select * from nasdaq limit 3', presto)"
   ]
  },
  {
   "cell_type": "markdown",
   "metadata": {},
   "source": [
    "Alternatively, you can read a table into a DataFrame by ``read_td_table``, optionally with a specific time range, sample rate, and/or a limit:"
   ]
  },
  {
   "cell_type": "code",
   "execution_count": 5,
   "metadata": {
    "collapsed": false
   },
   "outputs": [],
   "source": [
    "# Read from a table with 5-percent sampling\n",
    "df = td.read_td_table('nasdaq', presto, time_range=('2000-01-01', '2010-01-01'), sample=0.05, limit=10000)"
   ]
  },
  {
   "cell_type": "markdown",
   "metadata": {},
   "source": [
    "Pandas-TD also supports importing a DataFrame into a table by ``to_td``:"
   ]
  },
  {
   "cell_type": "code",
   "execution_count": 6,
   "metadata": {
    "collapsed": false
   },
   "outputs": [],
   "source": [
    "# Create a DataFrame with random values\n",
    "df = pd.DataFrame(np.random.rand(3, 3), columns=['x', 'y', 'z'])\n",
    "\n",
    "# Import it into 'tutorial.tut1'\n",
    "td.to_td(df, 'tutorial.tut1', con, if_exists='replace', index=False)"
   ]
  },
  {
   "cell_type": "code",
   "execution_count": 7,
   "metadata": {
    "collapsed": false
   },
   "outputs": [
    {
     "data": {
      "text/html": [
       "<div style=\"max-height:1000px;max-width:1500px;overflow:auto;\">\n",
       "<table border=\"1\" class=\"dataframe\">\n",
       "  <thead>\n",
       "    <tr style=\"text-align: right;\">\n",
       "      <th></th>\n",
       "      <th>z</th>\n",
       "      <th>y</th>\n",
       "      <th>x</th>\n",
       "      <th>time</th>\n",
       "    </tr>\n",
       "  </thead>\n",
       "  <tbody>\n",
       "    <tr>\n",
       "      <th>0</th>\n",
       "      <td>0.579276</td>\n",
       "      <td>0.729514</td>\n",
       "      <td>0.984005</td>\n",
       "      <td>1432999247</td>\n",
       "    </tr>\n",
       "    <tr>\n",
       "      <th>1</th>\n",
       "      <td>0.265180</td>\n",
       "      <td>0.693649</td>\n",
       "      <td>0.316524</td>\n",
       "      <td>1432999247</td>\n",
       "    </tr>\n",
       "    <tr>\n",
       "      <th>2</th>\n",
       "      <td>0.898841</td>\n",
       "      <td>0.794635</td>\n",
       "      <td>0.518262</td>\n",
       "      <td>1432999247</td>\n",
       "    </tr>\n",
       "  </tbody>\n",
       "</table>\n",
       "</div>"
      ],
      "text/plain": [
       "          z         y         x        time\n",
       "0  0.579276  0.729514  0.984005  1432999247\n",
       "1  0.265180  0.693649  0.316524  1432999247\n",
       "2  0.898841  0.794635  0.518262  1432999247"
      ]
     },
     "execution_count": 7,
     "metadata": {},
     "output_type": "execute_result"
    }
   ],
   "source": [
    "# Check the result\n",
    "td.read_td('select * from tutorial.tut1', presto)"
   ]
  },
  {
   "cell_type": "markdown",
   "metadata": {},
   "source": [
    "# read_td_query"
   ]
  },
  {
   "cell_type": "code",
   "execution_count": 8,
   "metadata": {
    "collapsed": false
   },
   "outputs": [
    {
     "name": "stdout",
     "output_type": "stream",
     "text": [
      "Help on function read_td_query in module pandas_td.td:\n",
      "\n",
      "read_td_query(query, engine, index_col=None, params=None, parse_dates=None)\n",
      "    Read Treasure Data query into a DataFrame.\n",
      "    \n",
      "    Returns a DataFrame corresponding to the result set of the query string.\n",
      "    Optionally provide an index_col parameter to use one of the columns as\n",
      "    the index, otherwise default integer index will be used.\n",
      "    \n",
      "    Parameters\n",
      "    ----------\n",
      "    query : string\n",
      "        Query string to be executed.\n",
      "    engine : QueryEngine\n",
      "        Handler returned by Connection.query_engine.\n",
      "    index_col : string, optional\n",
      "        Column name to use as index for the returned DataFrame object.\n",
      "    params : dict, optional\n",
      "        Parameters to pass to execute method.\n",
      "    parse_dates : list or dict, optional\n",
      "        - List of column names to parse as dates\n",
      "        - Dict of {column_name: format string} where format string is strftime\n",
      "          compatible in case of parsing string times or is one of (D, s, ns, ms, us)\n",
      "          in case of parsing integer timestamps\n",
      "    \n",
      "    Returns\n",
      "    -------\n",
      "    DataFrame\n",
      "\n"
     ]
    }
   ],
   "source": [
    "help(td.read_td_query)"
   ]
  },
  {
   "cell_type": "markdown",
   "metadata": {
    "collapsed": true
   },
   "source": [
    "### Examples"
   ]
  },
  {
   "cell_type": "code",
   "execution_count": 9,
   "metadata": {
    "collapsed": false
   },
   "outputs": [
    {
     "data": {
      "text/plain": [
       "<matplotlib.axes._subplots.AxesSubplot at 0x107540a20>"
      ]
     },
     "execution_count": 9,
     "metadata": {},
     "output_type": "execute_result"
    },
    {
     "data": {
      "image/png": "[encoded data removed]",
      "text/plain": [
       "<matplotlib.figure.Figure at 0x107540438>"
      ]
     },
     "metadata": {},
     "output_type": "display_data"
    }
   ],
   "source": [
    "# Convert \"time\" to a time series index\n",
    "df = td.read_td_query(\"select time, close from nasdaq where symbol='AAPL'\",\n",
    "                      presto,\n",
    "                      index_col='time',\n",
    "                      parse_dates={'time': 's'})\n",
    "df.plot()"
   ]
  },
  {
   "cell_type": "markdown",
   "metadata": {},
   "source": [
    "# read_td_table"
   ]
  },
  {
   "cell_type": "code",
   "execution_count": 10,
   "metadata": {
    "collapsed": false
   },
   "outputs": [
    {
     "name": "stdout",
     "output_type": "stream",
     "text": [
      "Help on function read_td_table in module pandas_td.td:\n",
      "\n",
      "read_td_table(table_name, engine, index_col=None, parse_dates=None, columns=None, time_range=None, sample=None, limit=10000)\n",
      "    Read Treasure Data table into a DataFrame.\n",
      "    \n",
      "    The number of returned rows is limited by \"limit\" (default 10,000).\n",
      "    Setting limit=None means all rows. Be careful when you set limit=None\n",
      "    because your table might be very large and the result does not fit into memory.\n",
      "    \n",
      "    Parameters\n",
      "    ----------\n",
      "    table_name : string\n",
      "        Name of Treasure Data table in database.\n",
      "    engine : QueryEngine\n",
      "        Handler returned by Connection.query_engine.\n",
      "    index_col : string, optional\n",
      "        Column name to use as index for the returned DataFrame object.\n",
      "    parse_dates : list or dict, optional\n",
      "        - List of column names to parse as dates\n",
      "        - Dict of {column_name: format string} where format string is strftime\n",
      "          compatible in case of parsing string times or is one of (D, s, ns, ms, us)\n",
      "          in case of parsing integer timestamps\n",
      "    columns : list, optional\n",
      "        List of column names to select from table.\n",
      "    time_range : tuple (start, end), optional\n",
      "        Limit time range to select. \"start\" and \"end\" are one of None, integers,\n",
      "        strings or datetime objects. \"end\" is exclusive, not included in the result.\n",
      "    sample : double, optional\n",
      "        Enable sampling data (Presto only). 1.0 means all data (100 percent).\n",
      "        See TABLESAMPLE BERNOULLI at https://prestodb.io/docs/current/sql/select.html\n",
      "    limit : int, default 10,000\n",
      "        Maximum number of rows to select.\n",
      "    \n",
      "    Returns\n",
      "    -------\n",
      "    DataFrame\n",
      "\n"
     ]
    }
   ],
   "source": [
    "help(td.read_td_table)"
   ]
  },
  {
   "cell_type": "markdown",
   "metadata": {},
   "source": [
    "### Examples"
   ]
  },
  {
   "cell_type": "code",
   "execution_count": 11,
   "metadata": {
    "collapsed": false
   },
   "outputs": [
    {
     "data": {
      "text/html": [
       "<div style=\"max-height:1000px;max-width:1500px;overflow:auto;\">\n",
       "<table border=\"1\" class=\"dataframe\">\n",
       "  <thead>\n",
       "    <tr style=\"text-align: right;\">\n",
       "      <th></th>\n",
       "      <th>user</th>\n",
       "      <th>host</th>\n",
       "      <th>path</th>\n",
       "      <th>referer</th>\n",
       "      <th>code</th>\n",
       "      <th>agent</th>\n",
       "      <th>size</th>\n",
       "      <th>method</th>\n",
       "      <th>time</th>\n",
       "    </tr>\n",
       "  </thead>\n",
       "  <tbody>\n",
       "    <tr>\n",
       "      <th>0</th>\n",
       "      <td>None</td>\n",
       "      <td>192.225.229.196</td>\n",
       "      <td>/category/software</td>\n",
       "      <td>-</td>\n",
       "      <td>200</td>\n",
       "      <td>Mozilla/5.0 (Macintosh; Intel Mac OS X 10.6; r...</td>\n",
       "      <td>117</td>\n",
       "      <td>GET</td>\n",
       "      <td>1412382292</td>\n",
       "    </tr>\n",
       "    <tr>\n",
       "      <th>1</th>\n",
       "      <td>None</td>\n",
       "      <td>120.168.215.131</td>\n",
       "      <td>/category/software</td>\n",
       "      <td>-</td>\n",
       "      <td>200</td>\n",
       "      <td>Mozilla/5.0 (compatible; Googlebot/2.1; +http:...</td>\n",
       "      <td>53</td>\n",
       "      <td>GET</td>\n",
       "      <td>1412382284</td>\n",
       "    </tr>\n",
       "    <tr>\n",
       "      <th>2</th>\n",
       "      <td>None</td>\n",
       "      <td>180.198.173.136</td>\n",
       "      <td>/category/electronics</td>\n",
       "      <td>/category/computers</td>\n",
       "      <td>200</td>\n",
       "      <td>Mozilla/5.0 (Windows NT 6.0) AppleWebKit/535.1...</td>\n",
       "      <td>106</td>\n",
       "      <td>GET</td>\n",
       "      <td>1412382275</td>\n",
       "    </tr>\n",
       "  </tbody>\n",
       "</table>\n",
       "</div>"
      ],
      "text/plain": [
       "   user             host                   path              referer  code  \\\n",
       "0  None  192.225.229.196     /category/software                    -   200   \n",
       "1  None  120.168.215.131     /category/software                    -   200   \n",
       "2  None  180.198.173.136  /category/electronics  /category/computers   200   \n",
       "\n",
       "                                               agent  size method        time  \n",
       "0  Mozilla/5.0 (Macintosh; Intel Mac OS X 10.6; r...   117    GET  1412382292  \n",
       "1  Mozilla/5.0 (compatible; Googlebot/2.1; +http:...    53    GET  1412382284  \n",
       "2  Mozilla/5.0 (Windows NT 6.0) AppleWebKit/535.1...   106    GET  1412382275  "
      ]
     },
     "execution_count": 11,
     "metadata": {},
     "output_type": "execute_result"
    }
   ],
   "source": [
    "# Read all records (up to 10,000 rows by default)\n",
    "df = td.read_td_table(\"www_access\", presto)\n",
    "df.head(3)"
   ]
  },
  {
   "cell_type": "code",
   "execution_count": 12,
   "metadata": {
    "collapsed": false
   },
   "outputs": [
    {
     "data": {
      "text/plain": [
       "55136"
      ]
     },
     "execution_count": 12,
     "metadata": {},
     "output_type": "execute_result"
    }
   ],
   "source": [
    "# From 1990 to 2010, 1-percent sample, no limit\n",
    "df = td.read_td_table(\"nasdaq\",\n",
    "                      presto,\n",
    "                      index_col='time',\n",
    "                      parse_dates={'time': 's'},\n",
    "                      columns=['time', 'symbol', 'close'],\n",
    "                      time_range=('1990', '2010'),\n",
    "                      sample=0.01,\n",
    "                      limit=None)\n",
    "len(df)"
   ]
  },
  {
   "cell_type": "code",
   "execution_count": 13,
   "metadata": {
    "collapsed": false
   },
   "outputs": [
    {
     "data": {
      "text/plain": [
       "<matplotlib.axes._subplots.AxesSubplot at 0x1088fe7f0>"
      ]
     },
     "execution_count": 13,
     "metadata": {},
     "output_type": "execute_result"
    },
    {
     "data": {
      "image/png": "[encoded data removed]",
      "text/plain": [
       "<matplotlib.figure.Figure at 0x1044169b0>"
      ]
     },
     "metadata": {},
     "output_type": "display_data"
    }
   ],
   "source": [
    "df[df.symbol=='AAPL'].plot()"
   ]
  },
  {
   "cell_type": "markdown",
   "metadata": {},
   "source": [
    "# to_td"
   ]
  },
  {
   "cell_type": "code",
   "execution_count": 14,
   "metadata": {
    "collapsed": false
   },
   "outputs": [
    {
     "name": "stdout",
     "output_type": "stream",
     "text": [
      "Help on function to_td in module pandas_td.td:\n",
      "\n",
      "to_td(frame, name, con, if_exists='fail', time='now', index=True, index_label=None, chunksize=10000)\n",
      "    Write a DataFrame to a Treasure Data table.\n",
      "    \n",
      "    This method converts the dataframe into a series of key-value pairs\n",
      "    and send them using the Treasure Data streaming API. The data is divided\n",
      "    into chunks of rows (default 10,000) and uploaded separately. If upload\n",
      "    failed, the client retries the process for a certain amount of time\n",
      "    (max_cumul_retry_delay; default 600 secs). This method may fail and\n",
      "    raise an exception when retries did not success, in which case the data\n",
      "    may be partially inserted. Use the bulk import utility if you cannot\n",
      "    accept partial inserts.\n",
      "    \n",
      "    Parameters\n",
      "    ----------\n",
      "    frame : DataFrame\n",
      "        DataFrame to be written.\n",
      "    name : string\n",
      "        Name of table to be written, in the form 'database.table'.\n",
      "    con : Connection\n",
      "        Connection to a Treasure Data account.\n",
      "    if_exists: {'fail', 'replace', 'append'}, default 'fail'\n",
      "        - fail: If table exists, do nothing.\n",
      "        - replace: If table exists, drop it, recreate it, and insert data.\n",
      "        - append: If table exists, insert data. Create if does not exist.\n",
      "    time : {'now', 'column', 'index'}, default 'now'\n",
      "        - now: Insert (or replace) a \"time\" column as the current time.\n",
      "        - column: Use \"time\" column, must be an integer (unixtime) or datetime.\n",
      "        - index: Convert DataFrame index into a \"time\" column, implies index=False.\n",
      "    index : boolean, default True\n",
      "        Write DataFrame index as a column.\n",
      "    index_label : string or sequence, default None\n",
      "        Column label for index column(s). If None is given (default) and index is True,\n",
      "        then the index names are used. A sequence should be given if the DataFrame uses\n",
      "        MultiIndex.\n",
      "    chunksize : int, default 10,000\n",
      "        Number of rows to be inserted in each chunk from the dataframe.\n",
      "\n"
     ]
    }
   ],
   "source": [
    "help(td.to_td)"
   ]
  },
  {
   "cell_type": "markdown",
   "metadata": {},
   "source": [
    "### Examples"
   ]
  },
  {
   "cell_type": "code",
   "execution_count": 15,
   "metadata": {
    "collapsed": true
   },
   "outputs": [],
   "source": [
    "# Create a DataFrame with random values\n",
    "df = pd.DataFrame(np.random.rand(3, 3), columns=['x', 'y', 'z'])"
   ]
  },
  {
   "cell_type": "markdown",
   "metadata": {},
   "source": [
    "``to_td`` will fail if table already exists:"
   ]
  },
  {
   "cell_type": "code",
   "execution_count": 16,
   "metadata": {
    "collapsed": false
   },
   "outputs": [
    {
     "ename": "RuntimeError",
     "evalue": "table \"tutorial.tut1\" already exists",
     "output_type": "error",
     "traceback": [
      "\u001b[0;31m---------------------------------------------------------------------------\u001b[0m",
      "\u001b[0;31mRuntimeError\u001b[0m                              Traceback (most recent call last)",
      "\u001b[0;32m<ipython-input-16-3ee20f431658>\u001b[0m in \u001b[0;36m<module>\u001b[0;34m()\u001b[0m\n\u001b[0;32m----> 1\u001b[0;31m \u001b[0mtd\u001b[0m\u001b[0;34m.\u001b[0m\u001b[0mto_td\u001b[0m\u001b[0;34m(\u001b[0m\u001b[0mdf\u001b[0m\u001b[0;34m,\u001b[0m \u001b[0;34m'tutorial.tut1'\u001b[0m\u001b[0;34m,\u001b[0m \u001b[0mcon\u001b[0m\u001b[0;34m)\u001b[0m\u001b[0;34m\u001b[0m\u001b[0m\n\u001b[0m",
      "\u001b[0;32m/Users/knishida/projects/pandas-td/pandas_td/td.py\u001b[0m in \u001b[0;36mto_td\u001b[0;34m(frame, name, con, if_exists, time, index, index_label, chunksize)\u001b[0m\n\u001b[1;32m    394\u001b[0m             \u001b[0mcon\u001b[0m\u001b[0;34m.\u001b[0m\u001b[0mclient\u001b[0m\u001b[0;34m.\u001b[0m\u001b[0mcreate_log_table\u001b[0m\u001b[0;34m(\u001b[0m\u001b[0mdatabase\u001b[0m\u001b[0;34m,\u001b[0m \u001b[0mtable\u001b[0m\u001b[0;34m)\u001b[0m\u001b[0;34m\u001b[0m\u001b[0m\n\u001b[1;32m    395\u001b[0m         \u001b[0;32melse\u001b[0m\u001b[0;34m:\u001b[0m\u001b[0;34m\u001b[0m\u001b[0m\n\u001b[0;32m--> 396\u001b[0;31m             \u001b[0;32mraise\u001b[0m \u001b[0mRuntimeError\u001b[0m\u001b[0;34m(\u001b[0m\u001b[0;34m'table \"%s\" already exists'\u001b[0m \u001b[0;34m%\u001b[0m \u001b[0mname\u001b[0m\u001b[0;34m)\u001b[0m\u001b[0;34m\u001b[0m\u001b[0m\n\u001b[0m\u001b[1;32m    397\u001b[0m     \u001b[0;32melif\u001b[0m \u001b[0mif_exists\u001b[0m \u001b[0;34m==\u001b[0m \u001b[0;34m'replace'\u001b[0m\u001b[0;34m:\u001b[0m\u001b[0;34m\u001b[0m\u001b[0m\n\u001b[1;32m    398\u001b[0m         \u001b[0;32mtry\u001b[0m\u001b[0;34m:\u001b[0m\u001b[0;34m\u001b[0m\u001b[0m\n",
      "\u001b[0;31mRuntimeError\u001b[0m: table \"tutorial.tut1\" already exists"
     ]
    }
   ],
   "source": [
    "td.to_td(df, 'tutorial.tut1', con)"
   ]
  },
  {
   "cell_type": "code",
   "execution_count": 17,
   "metadata": {
    "collapsed": true
   },
   "outputs": [],
   "source": [
    "# Set \"if_exists\" to 'replace' or 'append'\n",
    "td.to_td(df, 'tutorial.tut1', con, if_exists='replace')"
   ]
  },
  {
   "cell_type": "markdown",
   "metadata": {},
   "source": [
    "Use index=False if you don't need to insert DataFrame index:"
   ]
  },
  {
   "cell_type": "code",
   "execution_count": 18,
   "metadata": {
    "collapsed": true
   },
   "outputs": [],
   "source": [
    "td.to_td(df, 'tutorial.tut1', con, if_exists='replace', index=False)"
   ]
  },
  {
   "cell_type": "markdown",
   "metadata": {},
   "source": [
    "``to_td`` inserts the current time as \"time\" column (time='now').  You can change it by \"time\" parameter:"
   ]
  },
  {
   "cell_type": "code",
   "execution_count": 19,
   "metadata": {
    "collapsed": true
   },
   "outputs": [],
   "source": [
    "import datetime\n",
    "\n",
    "# Set \"time\" column explicitly\n",
    "df['time'] = datetime.datetime.now()\n",
    "\n",
    "# Set time='column' to use \"time\" as the time column in Treasure Data\n",
    "td.to_td(df, 'tutorial.tut1', con, if_exists='replace', index=False, time='column')"
   ]
  },
  {
   "cell_type": "code",
   "execution_count": null,
   "metadata": {
    "collapsed": true
   },
   "outputs": [],
   "source": []
  }
 ],
 "metadata": {
  "kernelspec": {
   "display_name": "Python 3",
   "language": "python",
   "name": "python3"
  },
  "language_info": {
   "codemirror_mode": {
    "name": "ipython",
    "version": 3
   },
   "file_extension": ".py",
   "mimetype": "text/x-python",
   "name": "python",
   "nbconvert_exporter": "python",
   "pygments_lexer": "ipython3",
   "version": "3.4.3"
  }
 },
 "nbformat": 4,
 "nbformat_minor": 0
}
